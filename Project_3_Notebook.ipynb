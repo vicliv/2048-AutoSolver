{
  "nbformat": 4,
  "nbformat_minor": 0,
  "metadata": {
    "accelerator": "GPU",
    "colab": {
      "name": "Project 3 Notebook.ipynb",
      "provenance": [],
      "collapsed_sections": [],
      "machine_shape": "hm",
      "include_colab_link": true
    },
    "deepnote": {
      "is_reactive": false
    },
    "deepnote_execution_queue": [
      {
        "cellId": "00014-5023c705-89c0-4b0d-8475-31dbf86965f1",
        "msgId": "df859eb8-5087-492b-81a0-bf32da9d72c2",
        "sessionId": "ba7e9811-adf0-4ae0-bc6e-78a462d11bf3"
      }
    ],
    "deepnote_notebook_id": "6ceacadf-544f-46ff-b007-fbadf7aa1867",
    "kernelspec": {
      "display_name": "Python 3",
      "name": "python3"
    },
    "language_info": {
      "name": "python"
    },
    "widgets": {
      "application/vnd.jupyter.widget-state+json": {
        "667394c8d1704241871f021bb20fd622": {
          "model_module": "@jupyter-widgets/controls",
          "model_name": "HBoxModel",
          "model_module_version": "1.5.0",
          "state": {
            "_view_name": "HBoxView",
            "_dom_classes": [],
            "_model_name": "HBoxModel",
            "_view_module": "@jupyter-widgets/controls",
            "_model_module_version": "1.5.0",
            "_view_count": null,
            "_view_module_version": "1.5.0",
            "box_style": "",
            "layout": "IPY_MODEL_c48284e7faad424ca3b74022508941c6",
            "_model_module": "@jupyter-widgets/controls",
            "children": [
              "IPY_MODEL_c443553a60624583bc21032f3ae5d32d",
              "IPY_MODEL_ee4eb39d752d4afdbc161f6ae342be9d",
              "IPY_MODEL_8b1f910b11e34355a4af6a390aa3e46c"
            ]
          }
        },
        "c48284e7faad424ca3b74022508941c6": {
          "model_module": "@jupyter-widgets/base",
          "model_name": "LayoutModel",
          "model_module_version": "1.2.0",
          "state": {
            "_view_name": "LayoutView",
            "grid_template_rows": null,
            "right": null,
            "justify_content": null,
            "_view_module": "@jupyter-widgets/base",
            "overflow": null,
            "_model_module_version": "1.2.0",
            "_view_count": null,
            "flex_flow": null,
            "width": null,
            "min_width": null,
            "border": null,
            "align_items": null,
            "bottom": null,
            "_model_module": "@jupyter-widgets/base",
            "top": null,
            "grid_column": null,
            "overflow_y": null,
            "overflow_x": null,
            "grid_auto_flow": null,
            "grid_area": null,
            "grid_template_columns": null,
            "flex": null,
            "_model_name": "LayoutModel",
            "justify_items": null,
            "grid_row": null,
            "max_height": null,
            "align_content": null,
            "visibility": null,
            "align_self": null,
            "height": null,
            "min_height": null,
            "padding": null,
            "grid_auto_rows": null,
            "grid_gap": null,
            "max_width": null,
            "order": null,
            "_view_module_version": "1.2.0",
            "grid_template_areas": null,
            "object_position": null,
            "object_fit": null,
            "grid_auto_columns": null,
            "margin": null,
            "display": null,
            "left": null
          }
        },
        "c443553a60624583bc21032f3ae5d32d": {
          "model_module": "@jupyter-widgets/controls",
          "model_name": "HTMLModel",
          "model_module_version": "1.5.0",
          "state": {
            "_view_name": "HTMLView",
            "style": "IPY_MODEL_34eb174c8d0b44c486bf363de1346eab",
            "_dom_classes": [],
            "description": "",
            "_model_name": "HTMLModel",
            "placeholder": "​",
            "_view_module": "@jupyter-widgets/controls",
            "_model_module_version": "1.5.0",
            "value": "100%",
            "_view_count": null,
            "_view_module_version": "1.5.0",
            "description_tooltip": null,
            "_model_module": "@jupyter-widgets/controls",
            "layout": "IPY_MODEL_53e8d248d2674d838a0088f7dd8fcd77"
          }
        },
        "ee4eb39d752d4afdbc161f6ae342be9d": {
          "model_module": "@jupyter-widgets/controls",
          "model_name": "FloatProgressModel",
          "model_module_version": "1.5.0",
          "state": {
            "_view_name": "ProgressView",
            "style": "IPY_MODEL_d2652456c79e4c86980e5d3bf29c3351",
            "_dom_classes": [],
            "description": "",
            "_model_name": "FloatProgressModel",
            "bar_style": "success",
            "max": 27000,
            "_view_module": "@jupyter-widgets/controls",
            "_model_module_version": "1.5.0",
            "value": 27000,
            "_view_count": null,
            "_view_module_version": "1.5.0",
            "orientation": "horizontal",
            "min": 0,
            "description_tooltip": null,
            "_model_module": "@jupyter-widgets/controls",
            "layout": "IPY_MODEL_007d26484e6c4f86afd006526a479bf0"
          }
        },
        "8b1f910b11e34355a4af6a390aa3e46c": {
          "model_module": "@jupyter-widgets/controls",
          "model_name": "HTMLModel",
          "model_module_version": "1.5.0",
          "state": {
            "_view_name": "HTMLView",
            "style": "IPY_MODEL_d17e7b36a0b2472196f4abeedf28b3e1",
            "_dom_classes": [],
            "description": "",
            "_model_name": "HTMLModel",
            "placeholder": "​",
            "_view_module": "@jupyter-widgets/controls",
            "_model_module_version": "1.5.0",
            "value": " 27000/27000 [01:01&lt;00:00, 447.90it/s]",
            "_view_count": null,
            "_view_module_version": "1.5.0",
            "description_tooltip": null,
            "_model_module": "@jupyter-widgets/controls",
            "layout": "IPY_MODEL_9ebacd36f3b24a2c8779a0b0fe4ee915"
          }
        },
        "34eb174c8d0b44c486bf363de1346eab": {
          "model_module": "@jupyter-widgets/controls",
          "model_name": "DescriptionStyleModel",
          "model_module_version": "1.5.0",
          "state": {
            "_view_name": "StyleView",
            "_model_name": "DescriptionStyleModel",
            "description_width": "",
            "_view_module": "@jupyter-widgets/base",
            "_model_module_version": "1.5.0",
            "_view_count": null,
            "_view_module_version": "1.2.0",
            "_model_module": "@jupyter-widgets/controls"
          }
        },
        "53e8d248d2674d838a0088f7dd8fcd77": {
          "model_module": "@jupyter-widgets/base",
          "model_name": "LayoutModel",
          "model_module_version": "1.2.0",
          "state": {
            "_view_name": "LayoutView",
            "grid_template_rows": null,
            "right": null,
            "justify_content": null,
            "_view_module": "@jupyter-widgets/base",
            "overflow": null,
            "_model_module_version": "1.2.0",
            "_view_count": null,
            "flex_flow": null,
            "width": null,
            "min_width": null,
            "border": null,
            "align_items": null,
            "bottom": null,
            "_model_module": "@jupyter-widgets/base",
            "top": null,
            "grid_column": null,
            "overflow_y": null,
            "overflow_x": null,
            "grid_auto_flow": null,
            "grid_area": null,
            "grid_template_columns": null,
            "flex": null,
            "_model_name": "LayoutModel",
            "justify_items": null,
            "grid_row": null,
            "max_height": null,
            "align_content": null,
            "visibility": null,
            "align_self": null,
            "height": null,
            "min_height": null,
            "padding": null,
            "grid_auto_rows": null,
            "grid_gap": null,
            "max_width": null,
            "order": null,
            "_view_module_version": "1.2.0",
            "grid_template_areas": null,
            "object_position": null,
            "object_fit": null,
            "grid_auto_columns": null,
            "margin": null,
            "display": null,
            "left": null
          }
        },
        "d2652456c79e4c86980e5d3bf29c3351": {
          "model_module": "@jupyter-widgets/controls",
          "model_name": "ProgressStyleModel",
          "model_module_version": "1.5.0",
          "state": {
            "_view_name": "StyleView",
            "_model_name": "ProgressStyleModel",
            "description_width": "",
            "_view_module": "@jupyter-widgets/base",
            "_model_module_version": "1.5.0",
            "_view_count": null,
            "_view_module_version": "1.2.0",
            "bar_color": null,
            "_model_module": "@jupyter-widgets/controls"
          }
        },
        "007d26484e6c4f86afd006526a479bf0": {
          "model_module": "@jupyter-widgets/base",
          "model_name": "LayoutModel",
          "model_module_version": "1.2.0",
          "state": {
            "_view_name": "LayoutView",
            "grid_template_rows": null,
            "right": null,
            "justify_content": null,
            "_view_module": "@jupyter-widgets/base",
            "overflow": null,
            "_model_module_version": "1.2.0",
            "_view_count": null,
            "flex_flow": null,
            "width": null,
            "min_width": null,
            "border": null,
            "align_items": null,
            "bottom": null,
            "_model_module": "@jupyter-widgets/base",
            "top": null,
            "grid_column": null,
            "overflow_y": null,
            "overflow_x": null,
            "grid_auto_flow": null,
            "grid_area": null,
            "grid_template_columns": null,
            "flex": null,
            "_model_name": "LayoutModel",
            "justify_items": null,
            "grid_row": null,
            "max_height": null,
            "align_content": null,
            "visibility": null,
            "align_self": null,
            "height": null,
            "min_height": null,
            "padding": null,
            "grid_auto_rows": null,
            "grid_gap": null,
            "max_width": null,
            "order": null,
            "_view_module_version": "1.2.0",
            "grid_template_areas": null,
            "object_position": null,
            "object_fit": null,
            "grid_auto_columns": null,
            "margin": null,
            "display": null,
            "left": null
          }
        },
        "d17e7b36a0b2472196f4abeedf28b3e1": {
          "model_module": "@jupyter-widgets/controls",
          "model_name": "DescriptionStyleModel",
          "model_module_version": "1.5.0",
          "state": {
            "_view_name": "StyleView",
            "_model_name": "DescriptionStyleModel",
            "description_width": "",
            "_view_module": "@jupyter-widgets/base",
            "_model_module_version": "1.5.0",
            "_view_count": null,
            "_view_module_version": "1.2.0",
            "_model_module": "@jupyter-widgets/controls"
          }
        },
        "9ebacd36f3b24a2c8779a0b0fe4ee915": {
          "model_module": "@jupyter-widgets/base",
          "model_name": "LayoutModel",
          "model_module_version": "1.2.0",
          "state": {
            "_view_name": "LayoutView",
            "grid_template_rows": null,
            "right": null,
            "justify_content": null,
            "_view_module": "@jupyter-widgets/base",
            "overflow": null,
            "_model_module_version": "1.2.0",
            "_view_count": null,
            "flex_flow": null,
            "width": null,
            "min_width": null,
            "border": null,
            "align_items": null,
            "bottom": null,
            "_model_module": "@jupyter-widgets/base",
            "top": null,
            "grid_column": null,
            "overflow_y": null,
            "overflow_x": null,
            "grid_auto_flow": null,
            "grid_area": null,
            "grid_template_columns": null,
            "flex": null,
            "_model_name": "LayoutModel",
            "justify_items": null,
            "grid_row": null,
            "max_height": null,
            "align_content": null,
            "visibility": null,
            "align_self": null,
            "height": null,
            "min_height": null,
            "padding": null,
            "grid_auto_rows": null,
            "grid_gap": null,
            "max_width": null,
            "order": null,
            "_view_module_version": "1.2.0",
            "grid_template_areas": null,
            "object_position": null,
            "object_fit": null,
            "grid_auto_columns": null,
            "margin": null,
            "display": null,
            "left": null
          }
        },
        "7c30324036d44265819e7638a0df7598": {
          "model_module": "@jupyter-widgets/controls",
          "model_name": "HBoxModel",
          "model_module_version": "1.5.0",
          "state": {
            "_view_name": "HBoxView",
            "_dom_classes": [],
            "_model_name": "HBoxModel",
            "_view_module": "@jupyter-widgets/controls",
            "_model_module_version": "1.5.0",
            "_view_count": null,
            "_view_module_version": "1.5.0",
            "box_style": "",
            "layout": "IPY_MODEL_d9e886cb6a5c44f88d79745427f588d8",
            "_model_module": "@jupyter-widgets/controls",
            "children": [
              "IPY_MODEL_8090287c91dc4b2995d85141a043be60",
              "IPY_MODEL_fd1b99689801430eaa122808445ac536",
              "IPY_MODEL_a81cbffda27b42aa8e837ab6182af232"
            ]
          }
        },
        "d9e886cb6a5c44f88d79745427f588d8": {
          "model_module": "@jupyter-widgets/base",
          "model_name": "LayoutModel",
          "model_module_version": "1.2.0",
          "state": {
            "_view_name": "LayoutView",
            "grid_template_rows": null,
            "right": null,
            "justify_content": null,
            "_view_module": "@jupyter-widgets/base",
            "overflow": null,
            "_model_module_version": "1.2.0",
            "_view_count": null,
            "flex_flow": null,
            "width": null,
            "min_width": null,
            "border": null,
            "align_items": null,
            "bottom": null,
            "_model_module": "@jupyter-widgets/base",
            "top": null,
            "grid_column": null,
            "overflow_y": null,
            "overflow_x": null,
            "grid_auto_flow": null,
            "grid_area": null,
            "grid_template_columns": null,
            "flex": null,
            "_model_name": "LayoutModel",
            "justify_items": null,
            "grid_row": null,
            "max_height": null,
            "align_content": null,
            "visibility": null,
            "align_self": null,
            "height": null,
            "min_height": null,
            "padding": null,
            "grid_auto_rows": null,
            "grid_gap": null,
            "max_width": null,
            "order": null,
            "_view_module_version": "1.2.0",
            "grid_template_areas": null,
            "object_position": null,
            "object_fit": null,
            "grid_auto_columns": null,
            "margin": null,
            "display": null,
            "left": null
          }
        },
        "8090287c91dc4b2995d85141a043be60": {
          "model_module": "@jupyter-widgets/controls",
          "model_name": "HTMLModel",
          "model_module_version": "1.5.0",
          "state": {
            "_view_name": "HTMLView",
            "style": "IPY_MODEL_bca50dd8895f49f8b3308e4e0c52b8eb",
            "_dom_classes": [],
            "description": "",
            "_model_name": "HTMLModel",
            "placeholder": "​",
            "_view_module": "@jupyter-widgets/controls",
            "_model_module_version": "1.5.0",
            "value": "100%",
            "_view_count": null,
            "_view_module_version": "1.5.0",
            "description_tooltip": null,
            "_model_module": "@jupyter-widgets/controls",
            "layout": "IPY_MODEL_3f824b32d379419d91391279315419bd"
          }
        },
        "fd1b99689801430eaa122808445ac536": {
          "model_module": "@jupyter-widgets/controls",
          "model_name": "FloatProgressModel",
          "model_module_version": "1.5.0",
          "state": {
            "_view_name": "ProgressView",
            "style": "IPY_MODEL_d378285dfc6a46b487c9aed03bce2a4d",
            "_dom_classes": [],
            "description": "",
            "_model_name": "FloatProgressModel",
            "bar_style": "success",
            "max": 3000,
            "_view_module": "@jupyter-widgets/controls",
            "_model_module_version": "1.5.0",
            "value": 3000,
            "_view_count": null,
            "_view_module_version": "1.5.0",
            "orientation": "horizontal",
            "min": 0,
            "description_tooltip": null,
            "_model_module": "@jupyter-widgets/controls",
            "layout": "IPY_MODEL_b4454ce48cc9449bbd371fe39681a7ae"
          }
        },
        "a81cbffda27b42aa8e837ab6182af232": {
          "model_module": "@jupyter-widgets/controls",
          "model_name": "HTMLModel",
          "model_module_version": "1.5.0",
          "state": {
            "_view_name": "HTMLView",
            "style": "IPY_MODEL_1db6bb0629ef4e93860f9fc118269088",
            "_dom_classes": [],
            "description": "",
            "_model_name": "HTMLModel",
            "placeholder": "​",
            "_view_module": "@jupyter-widgets/controls",
            "_model_module_version": "1.5.0",
            "value": " 3000/3000 [00:00&lt;00:00, 5732.36it/s]",
            "_view_count": null,
            "_view_module_version": "1.5.0",
            "description_tooltip": null,
            "_model_module": "@jupyter-widgets/controls",
            "layout": "IPY_MODEL_2dd82a2039dd44caac10308faeb765ca"
          }
        },
        "bca50dd8895f49f8b3308e4e0c52b8eb": {
          "model_module": "@jupyter-widgets/controls",
          "model_name": "DescriptionStyleModel",
          "model_module_version": "1.5.0",
          "state": {
            "_view_name": "StyleView",
            "_model_name": "DescriptionStyleModel",
            "description_width": "",
            "_view_module": "@jupyter-widgets/base",
            "_model_module_version": "1.5.0",
            "_view_count": null,
            "_view_module_version": "1.2.0",
            "_model_module": "@jupyter-widgets/controls"
          }
        },
        "3f824b32d379419d91391279315419bd": {
          "model_module": "@jupyter-widgets/base",
          "model_name": "LayoutModel",
          "model_module_version": "1.2.0",
          "state": {
            "_view_name": "LayoutView",
            "grid_template_rows": null,
            "right": null,
            "justify_content": null,
            "_view_module": "@jupyter-widgets/base",
            "overflow": null,
            "_model_module_version": "1.2.0",
            "_view_count": null,
            "flex_flow": null,
            "width": null,
            "min_width": null,
            "border": null,
            "align_items": null,
            "bottom": null,
            "_model_module": "@jupyter-widgets/base",
            "top": null,
            "grid_column": null,
            "overflow_y": null,
            "overflow_x": null,
            "grid_auto_flow": null,
            "grid_area": null,
            "grid_template_columns": null,
            "flex": null,
            "_model_name": "LayoutModel",
            "justify_items": null,
            "grid_row": null,
            "max_height": null,
            "align_content": null,
            "visibility": null,
            "align_self": null,
            "height": null,
            "min_height": null,
            "padding": null,
            "grid_auto_rows": null,
            "grid_gap": null,
            "max_width": null,
            "order": null,
            "_view_module_version": "1.2.0",
            "grid_template_areas": null,
            "object_position": null,
            "object_fit": null,
            "grid_auto_columns": null,
            "margin": null,
            "display": null,
            "left": null
          }
        },
        "d378285dfc6a46b487c9aed03bce2a4d": {
          "model_module": "@jupyter-widgets/controls",
          "model_name": "ProgressStyleModel",
          "model_module_version": "1.5.0",
          "state": {
            "_view_name": "StyleView",
            "_model_name": "ProgressStyleModel",
            "description_width": "",
            "_view_module": "@jupyter-widgets/base",
            "_model_module_version": "1.5.0",
            "_view_count": null,
            "_view_module_version": "1.2.0",
            "bar_color": null,
            "_model_module": "@jupyter-widgets/controls"
          }
        },
        "b4454ce48cc9449bbd371fe39681a7ae": {
          "model_module": "@jupyter-widgets/base",
          "model_name": "LayoutModel",
          "model_module_version": "1.2.0",
          "state": {
            "_view_name": "LayoutView",
            "grid_template_rows": null,
            "right": null,
            "justify_content": null,
            "_view_module": "@jupyter-widgets/base",
            "overflow": null,
            "_model_module_version": "1.2.0",
            "_view_count": null,
            "flex_flow": null,
            "width": null,
            "min_width": null,
            "border": null,
            "align_items": null,
            "bottom": null,
            "_model_module": "@jupyter-widgets/base",
            "top": null,
            "grid_column": null,
            "overflow_y": null,
            "overflow_x": null,
            "grid_auto_flow": null,
            "grid_area": null,
            "grid_template_columns": null,
            "flex": null,
            "_model_name": "LayoutModel",
            "justify_items": null,
            "grid_row": null,
            "max_height": null,
            "align_content": null,
            "visibility": null,
            "align_self": null,
            "height": null,
            "min_height": null,
            "padding": null,
            "grid_auto_rows": null,
            "grid_gap": null,
            "max_width": null,
            "order": null,
            "_view_module_version": "1.2.0",
            "grid_template_areas": null,
            "object_position": null,
            "object_fit": null,
            "grid_auto_columns": null,
            "margin": null,
            "display": null,
            "left": null
          }
        },
        "1db6bb0629ef4e93860f9fc118269088": {
          "model_module": "@jupyter-widgets/controls",
          "model_name": "DescriptionStyleModel",
          "model_module_version": "1.5.0",
          "state": {
            "_view_name": "StyleView",
            "_model_name": "DescriptionStyleModel",
            "description_width": "",
            "_view_module": "@jupyter-widgets/base",
            "_model_module_version": "1.5.0",
            "_view_count": null,
            "_view_module_version": "1.2.0",
            "_model_module": "@jupyter-widgets/controls"
          }
        },
        "2dd82a2039dd44caac10308faeb765ca": {
          "model_module": "@jupyter-widgets/base",
          "model_name": "LayoutModel",
          "model_module_version": "1.2.0",
          "state": {
            "_view_name": "LayoutView",
            "grid_template_rows": null,
            "right": null,
            "justify_content": null,
            "_view_module": "@jupyter-widgets/base",
            "overflow": null,
            "_model_module_version": "1.2.0",
            "_view_count": null,
            "flex_flow": null,
            "width": null,
            "min_width": null,
            "border": null,
            "align_items": null,
            "bottom": null,
            "_model_module": "@jupyter-widgets/base",
            "top": null,
            "grid_column": null,
            "overflow_y": null,
            "overflow_x": null,
            "grid_auto_flow": null,
            "grid_area": null,
            "grid_template_columns": null,
            "flex": null,
            "_model_name": "LayoutModel",
            "justify_items": null,
            "grid_row": null,
            "max_height": null,
            "align_content": null,
            "visibility": null,
            "align_self": null,
            "height": null,
            "min_height": null,
            "padding": null,
            "grid_auto_rows": null,
            "grid_gap": null,
            "max_width": null,
            "order": null,
            "_view_module_version": "1.2.0",
            "grid_template_areas": null,
            "object_position": null,
            "object_fit": null,
            "grid_auto_columns": null,
            "margin": null,
            "display": null,
            "left": null
          }
        },
        "def1f08ea47d4cdfb8437ed65b2f8673": {
          "model_module": "@jupyter-widgets/controls",
          "model_name": "HBoxModel",
          "model_module_version": "1.5.0",
          "state": {
            "_view_name": "HBoxView",
            "_dom_classes": [],
            "_model_name": "HBoxModel",
            "_view_module": "@jupyter-widgets/controls",
            "_model_module_version": "1.5.0",
            "_view_count": null,
            "_view_module_version": "1.5.0",
            "box_style": "",
            "layout": "IPY_MODEL_b90ed7a98aa547b9ad84b56500fc4636",
            "_model_module": "@jupyter-widgets/controls",
            "children": [
              "IPY_MODEL_6f63756882fb4d30981b1d09837148df",
              "IPY_MODEL_7625707207d7440d8f4750d4e11b8eb2",
              "IPY_MODEL_a6e5e14f0895454aa8488492ca30940d"
            ]
          }
        },
        "b90ed7a98aa547b9ad84b56500fc4636": {
          "model_module": "@jupyter-widgets/base",
          "model_name": "LayoutModel",
          "model_module_version": "1.2.0",
          "state": {
            "_view_name": "LayoutView",
            "grid_template_rows": null,
            "right": null,
            "justify_content": null,
            "_view_module": "@jupyter-widgets/base",
            "overflow": null,
            "_model_module_version": "1.2.0",
            "_view_count": null,
            "flex_flow": null,
            "width": null,
            "min_width": null,
            "border": null,
            "align_items": null,
            "bottom": null,
            "_model_module": "@jupyter-widgets/base",
            "top": null,
            "grid_column": null,
            "overflow_y": null,
            "overflow_x": null,
            "grid_auto_flow": null,
            "grid_area": null,
            "grid_template_columns": null,
            "flex": null,
            "_model_name": "LayoutModel",
            "justify_items": null,
            "grid_row": null,
            "max_height": null,
            "align_content": null,
            "visibility": null,
            "align_self": null,
            "height": null,
            "min_height": null,
            "padding": null,
            "grid_auto_rows": null,
            "grid_gap": null,
            "max_width": null,
            "order": null,
            "_view_module_version": "1.2.0",
            "grid_template_areas": null,
            "object_position": null,
            "object_fit": null,
            "grid_auto_columns": null,
            "margin": null,
            "display": null,
            "left": null
          }
        },
        "6f63756882fb4d30981b1d09837148df": {
          "model_module": "@jupyter-widgets/controls",
          "model_name": "HTMLModel",
          "model_module_version": "1.5.0",
          "state": {
            "_view_name": "HTMLView",
            "style": "IPY_MODEL_e521c390f02e4eaa944bdc24cafb4488",
            "_dom_classes": [],
            "description": "",
            "_model_name": "HTMLModel",
            "placeholder": "​",
            "_view_module": "@jupyter-widgets/controls",
            "_model_module_version": "1.5.0",
            "value": "100%",
            "_view_count": null,
            "_view_module_version": "1.5.0",
            "description_tooltip": null,
            "_model_module": "@jupyter-widgets/controls",
            "layout": "IPY_MODEL_afdcc3837de84959a0d6b7f59d0ebf7f"
          }
        },
        "7625707207d7440d8f4750d4e11b8eb2": {
          "model_module": "@jupyter-widgets/controls",
          "model_name": "FloatProgressModel",
          "model_module_version": "1.5.0",
          "state": {
            "_view_name": "ProgressView",
            "style": "IPY_MODEL_ceae74c565d444c4b840aafd43124b56",
            "_dom_classes": [],
            "description": "",
            "_model_name": "FloatProgressModel",
            "bar_style": "success",
            "max": 15000,
            "_view_module": "@jupyter-widgets/controls",
            "_model_module_version": "1.5.0",
            "value": 15000,
            "_view_count": null,
            "_view_module_version": "1.5.0",
            "orientation": "horizontal",
            "min": 0,
            "description_tooltip": null,
            "_model_module": "@jupyter-widgets/controls",
            "layout": "IPY_MODEL_f8ca424cad704b30ae691e39cbdc2810"
          }
        },
        "a6e5e14f0895454aa8488492ca30940d": {
          "model_module": "@jupyter-widgets/controls",
          "model_name": "HTMLModel",
          "model_module_version": "1.5.0",
          "state": {
            "_view_name": "HTMLView",
            "style": "IPY_MODEL_103594a83bc04d79bd6a91c70f2e7a19",
            "_dom_classes": [],
            "description": "",
            "_model_name": "HTMLModel",
            "placeholder": "​",
            "_view_module": "@jupyter-widgets/controls",
            "_model_module_version": "1.5.0",
            "value": " 15000/15000 [00:01&lt;00:00, 9368.46it/s]",
            "_view_count": null,
            "_view_module_version": "1.5.0",
            "description_tooltip": null,
            "_model_module": "@jupyter-widgets/controls",
            "layout": "IPY_MODEL_4e4d23631e2f4486a73601f5f2c6667e"
          }
        },
        "e521c390f02e4eaa944bdc24cafb4488": {
          "model_module": "@jupyter-widgets/controls",
          "model_name": "DescriptionStyleModel",
          "model_module_version": "1.5.0",
          "state": {
            "_view_name": "StyleView",
            "_model_name": "DescriptionStyleModel",
            "description_width": "",
            "_view_module": "@jupyter-widgets/base",
            "_model_module_version": "1.5.0",
            "_view_count": null,
            "_view_module_version": "1.2.0",
            "_model_module": "@jupyter-widgets/controls"
          }
        },
        "afdcc3837de84959a0d6b7f59d0ebf7f": {
          "model_module": "@jupyter-widgets/base",
          "model_name": "LayoutModel",
          "model_module_version": "1.2.0",
          "state": {
            "_view_name": "LayoutView",
            "grid_template_rows": null,
            "right": null,
            "justify_content": null,
            "_view_module": "@jupyter-widgets/base",
            "overflow": null,
            "_model_module_version": "1.2.0",
            "_view_count": null,
            "flex_flow": null,
            "width": null,
            "min_width": null,
            "border": null,
            "align_items": null,
            "bottom": null,
            "_model_module": "@jupyter-widgets/base",
            "top": null,
            "grid_column": null,
            "overflow_y": null,
            "overflow_x": null,
            "grid_auto_flow": null,
            "grid_area": null,
            "grid_template_columns": null,
            "flex": null,
            "_model_name": "LayoutModel",
            "justify_items": null,
            "grid_row": null,
            "max_height": null,
            "align_content": null,
            "visibility": null,
            "align_self": null,
            "height": null,
            "min_height": null,
            "padding": null,
            "grid_auto_rows": null,
            "grid_gap": null,
            "max_width": null,
            "order": null,
            "_view_module_version": "1.2.0",
            "grid_template_areas": null,
            "object_position": null,
            "object_fit": null,
            "grid_auto_columns": null,
            "margin": null,
            "display": null,
            "left": null
          }
        },
        "ceae74c565d444c4b840aafd43124b56": {
          "model_module": "@jupyter-widgets/controls",
          "model_name": "ProgressStyleModel",
          "model_module_version": "1.5.0",
          "state": {
            "_view_name": "StyleView",
            "_model_name": "ProgressStyleModel",
            "description_width": "",
            "_view_module": "@jupyter-widgets/base",
            "_model_module_version": "1.5.0",
            "_view_count": null,
            "_view_module_version": "1.2.0",
            "bar_color": null,
            "_model_module": "@jupyter-widgets/controls"
          }
        },
        "f8ca424cad704b30ae691e39cbdc2810": {
          "model_module": "@jupyter-widgets/base",
          "model_name": "LayoutModel",
          "model_module_version": "1.2.0",
          "state": {
            "_view_name": "LayoutView",
            "grid_template_rows": null,
            "right": null,
            "justify_content": null,
            "_view_module": "@jupyter-widgets/base",
            "overflow": null,
            "_model_module_version": "1.2.0",
            "_view_count": null,
            "flex_flow": null,
            "width": null,
            "min_width": null,
            "border": null,
            "align_items": null,
            "bottom": null,
            "_model_module": "@jupyter-widgets/base",
            "top": null,
            "grid_column": null,
            "overflow_y": null,
            "overflow_x": null,
            "grid_auto_flow": null,
            "grid_area": null,
            "grid_template_columns": null,
            "flex": null,
            "_model_name": "LayoutModel",
            "justify_items": null,
            "grid_row": null,
            "max_height": null,
            "align_content": null,
            "visibility": null,
            "align_self": null,
            "height": null,
            "min_height": null,
            "padding": null,
            "grid_auto_rows": null,
            "grid_gap": null,
            "max_width": null,
            "order": null,
            "_view_module_version": "1.2.0",
            "grid_template_areas": null,
            "object_position": null,
            "object_fit": null,
            "grid_auto_columns": null,
            "margin": null,
            "display": null,
            "left": null
          }
        },
        "103594a83bc04d79bd6a91c70f2e7a19": {
          "model_module": "@jupyter-widgets/controls",
          "model_name": "DescriptionStyleModel",
          "model_module_version": "1.5.0",
          "state": {
            "_view_name": "StyleView",
            "_model_name": "DescriptionStyleModel",
            "description_width": "",
            "_view_module": "@jupyter-widgets/base",
            "_model_module_version": "1.5.0",
            "_view_count": null,
            "_view_module_version": "1.2.0",
            "_model_module": "@jupyter-widgets/controls"
          }
        },
        "4e4d23631e2f4486a73601f5f2c6667e": {
          "model_module": "@jupyter-widgets/base",
          "model_name": "LayoutModel",
          "model_module_version": "1.2.0",
          "state": {
            "_view_name": "LayoutView",
            "grid_template_rows": null,
            "right": null,
            "justify_content": null,
            "_view_module": "@jupyter-widgets/base",
            "overflow": null,
            "_model_module_version": "1.2.0",
            "_view_count": null,
            "flex_flow": null,
            "width": null,
            "min_width": null,
            "border": null,
            "align_items": null,
            "bottom": null,
            "_model_module": "@jupyter-widgets/base",
            "top": null,
            "grid_column": null,
            "overflow_y": null,
            "overflow_x": null,
            "grid_auto_flow": null,
            "grid_area": null,
            "grid_template_columns": null,
            "flex": null,
            "_model_name": "LayoutModel",
            "justify_items": null,
            "grid_row": null,
            "max_height": null,
            "align_content": null,
            "visibility": null,
            "align_self": null,
            "height": null,
            "min_height": null,
            "padding": null,
            "grid_auto_rows": null,
            "grid_gap": null,
            "max_width": null,
            "order": null,
            "_view_module_version": "1.2.0",
            "grid_template_areas": null,
            "object_position": null,
            "object_fit": null,
            "grid_auto_columns": null,
            "margin": null,
            "display": null,
            "left": null
          }
        },
        "37a073b5c2f142008e242eeab98fcf0c": {
          "model_module": "@jupyter-widgets/controls",
          "model_name": "HBoxModel",
          "model_module_version": "1.5.0",
          "state": {
            "_view_name": "HBoxView",
            "_dom_classes": [],
            "_model_name": "HBoxModel",
            "_view_module": "@jupyter-widgets/controls",
            "_model_module_version": "1.5.0",
            "_view_count": null,
            "_view_module_version": "1.5.0",
            "box_style": "",
            "layout": "IPY_MODEL_920ca8afef3a42659524bbf68c575b9f",
            "_model_module": "@jupyter-widgets/controls",
            "children": [
              "IPY_MODEL_c0d899b7d8074c2fafbb71f6b95a3697",
              "IPY_MODEL_465d3494d2f647c4bf2c06f1f0009e1f",
              "IPY_MODEL_199766dccda441b380632275af380132"
            ]
          }
        },
        "920ca8afef3a42659524bbf68c575b9f": {
          "model_module": "@jupyter-widgets/base",
          "model_name": "LayoutModel",
          "model_module_version": "1.2.0",
          "state": {
            "_view_name": "LayoutView",
            "grid_template_rows": null,
            "right": null,
            "justify_content": null,
            "_view_module": "@jupyter-widgets/base",
            "overflow": null,
            "_model_module_version": "1.2.0",
            "_view_count": null,
            "flex_flow": null,
            "width": null,
            "min_width": null,
            "border": null,
            "align_items": null,
            "bottom": null,
            "_model_module": "@jupyter-widgets/base",
            "top": null,
            "grid_column": null,
            "overflow_y": null,
            "overflow_x": null,
            "grid_auto_flow": null,
            "grid_area": null,
            "grid_template_columns": null,
            "flex": null,
            "_model_name": "LayoutModel",
            "justify_items": null,
            "grid_row": null,
            "max_height": null,
            "align_content": null,
            "visibility": null,
            "align_self": null,
            "height": null,
            "min_height": null,
            "padding": null,
            "grid_auto_rows": null,
            "grid_gap": null,
            "max_width": null,
            "order": null,
            "_view_module_version": "1.2.0",
            "grid_template_areas": null,
            "object_position": null,
            "object_fit": null,
            "grid_auto_columns": null,
            "margin": null,
            "display": null,
            "left": null
          }
        },
        "c0d899b7d8074c2fafbb71f6b95a3697": {
          "model_module": "@jupyter-widgets/controls",
          "model_name": "HTMLModel",
          "model_module_version": "1.5.0",
          "state": {
            "_view_name": "HTMLView",
            "style": "IPY_MODEL_9138e4604627479fa7d7a2b8db594c02",
            "_dom_classes": [],
            "description": "",
            "_model_name": "HTMLModel",
            "placeholder": "​",
            "_view_module": "@jupyter-widgets/controls",
            "_model_module_version": "1.5.0",
            "value": "100%",
            "_view_count": null,
            "_view_module_version": "1.5.0",
            "description_tooltip": null,
            "_model_module": "@jupyter-widgets/controls",
            "layout": "IPY_MODEL_cfa5ae3d5c4a40b0962a092ee6467fe7"
          }
        },
        "465d3494d2f647c4bf2c06f1f0009e1f": {
          "model_module": "@jupyter-widgets/controls",
          "model_name": "FloatProgressModel",
          "model_module_version": "1.5.0",
          "state": {
            "_view_name": "ProgressView",
            "style": "IPY_MODEL_66aa5b85b237468ca813c200539eadbf",
            "_dom_classes": [],
            "description": "",
            "_model_name": "FloatProgressModel",
            "bar_style": "success",
            "max": 20285,
            "_view_module": "@jupyter-widgets/controls",
            "_model_module_version": "1.5.0",
            "value": 20285,
            "_view_count": null,
            "_view_module_version": "1.5.0",
            "orientation": "horizontal",
            "min": 0,
            "description_tooltip": null,
            "_model_module": "@jupyter-widgets/controls",
            "layout": "IPY_MODEL_346cd90107ea4d3da5b488de1d8bbe55"
          }
        },
        "199766dccda441b380632275af380132": {
          "model_module": "@jupyter-widgets/controls",
          "model_name": "HTMLModel",
          "model_module_version": "1.5.0",
          "state": {
            "_view_name": "HTMLView",
            "style": "IPY_MODEL_8f383236ccc14783b0bd0ec89904806e",
            "_dom_classes": [],
            "description": "",
            "_model_name": "HTMLModel",
            "placeholder": "​",
            "_view_module": "@jupyter-widgets/controls",
            "_model_module_version": "1.5.0",
            "value": " 20285/20285 [00:55&lt;00:00, 334.47it/s]",
            "_view_count": null,
            "_view_module_version": "1.5.0",
            "description_tooltip": null,
            "_model_module": "@jupyter-widgets/controls",
            "layout": "IPY_MODEL_badc46d1384e4cbe833beb220f61f8ce"
          }
        },
        "9138e4604627479fa7d7a2b8db594c02": {
          "model_module": "@jupyter-widgets/controls",
          "model_name": "DescriptionStyleModel",
          "model_module_version": "1.5.0",
          "state": {
            "_view_name": "StyleView",
            "_model_name": "DescriptionStyleModel",
            "description_width": "",
            "_view_module": "@jupyter-widgets/base",
            "_model_module_version": "1.5.0",
            "_view_count": null,
            "_view_module_version": "1.2.0",
            "_model_module": "@jupyter-widgets/controls"
          }
        },
        "cfa5ae3d5c4a40b0962a092ee6467fe7": {
          "model_module": "@jupyter-widgets/base",
          "model_name": "LayoutModel",
          "model_module_version": "1.2.0",
          "state": {
            "_view_name": "LayoutView",
            "grid_template_rows": null,
            "right": null,
            "justify_content": null,
            "_view_module": "@jupyter-widgets/base",
            "overflow": null,
            "_model_module_version": "1.2.0",
            "_view_count": null,
            "flex_flow": null,
            "width": null,
            "min_width": null,
            "border": null,
            "align_items": null,
            "bottom": null,
            "_model_module": "@jupyter-widgets/base",
            "top": null,
            "grid_column": null,
            "overflow_y": null,
            "overflow_x": null,
            "grid_auto_flow": null,
            "grid_area": null,
            "grid_template_columns": null,
            "flex": null,
            "_model_name": "LayoutModel",
            "justify_items": null,
            "grid_row": null,
            "max_height": null,
            "align_content": null,
            "visibility": null,
            "align_self": null,
            "height": null,
            "min_height": null,
            "padding": null,
            "grid_auto_rows": null,
            "grid_gap": null,
            "max_width": null,
            "order": null,
            "_view_module_version": "1.2.0",
            "grid_template_areas": null,
            "object_position": null,
            "object_fit": null,
            "grid_auto_columns": null,
            "margin": null,
            "display": null,
            "left": null
          }
        },
        "66aa5b85b237468ca813c200539eadbf": {
          "model_module": "@jupyter-widgets/controls",
          "model_name": "ProgressStyleModel",
          "model_module_version": "1.5.0",
          "state": {
            "_view_name": "StyleView",
            "_model_name": "ProgressStyleModel",
            "description_width": "",
            "_view_module": "@jupyter-widgets/base",
            "_model_module_version": "1.5.0",
            "_view_count": null,
            "_view_module_version": "1.2.0",
            "bar_color": null,
            "_model_module": "@jupyter-widgets/controls"
          }
        },
        "346cd90107ea4d3da5b488de1d8bbe55": {
          "model_module": "@jupyter-widgets/base",
          "model_name": "LayoutModel",
          "model_module_version": "1.2.0",
          "state": {
            "_view_name": "LayoutView",
            "grid_template_rows": null,
            "right": null,
            "justify_content": null,
            "_view_module": "@jupyter-widgets/base",
            "overflow": null,
            "_model_module_version": "1.2.0",
            "_view_count": null,
            "flex_flow": null,
            "width": null,
            "min_width": null,
            "border": null,
            "align_items": null,
            "bottom": null,
            "_model_module": "@jupyter-widgets/base",
            "top": null,
            "grid_column": null,
            "overflow_y": null,
            "overflow_x": null,
            "grid_auto_flow": null,
            "grid_area": null,
            "grid_template_columns": null,
            "flex": null,
            "_model_name": "LayoutModel",
            "justify_items": null,
            "grid_row": null,
            "max_height": null,
            "align_content": null,
            "visibility": null,
            "align_self": null,
            "height": null,
            "min_height": null,
            "padding": null,
            "grid_auto_rows": null,
            "grid_gap": null,
            "max_width": null,
            "order": null,
            "_view_module_version": "1.2.0",
            "grid_template_areas": null,
            "object_position": null,
            "object_fit": null,
            "grid_auto_columns": null,
            "margin": null,
            "display": null,
            "left": null
          }
        },
        "8f383236ccc14783b0bd0ec89904806e": {
          "model_module": "@jupyter-widgets/controls",
          "model_name": "DescriptionStyleModel",
          "model_module_version": "1.5.0",
          "state": {
            "_view_name": "StyleView",
            "_model_name": "DescriptionStyleModel",
            "description_width": "",
            "_view_module": "@jupyter-widgets/base",
            "_model_module_version": "1.5.0",
            "_view_count": null,
            "_view_module_version": "1.2.0",
            "_model_module": "@jupyter-widgets/controls"
          }
        },
        "badc46d1384e4cbe833beb220f61f8ce": {
          "model_module": "@jupyter-widgets/base",
          "model_name": "LayoutModel",
          "model_module_version": "1.2.0",
          "state": {
            "_view_name": "LayoutView",
            "grid_template_rows": null,
            "right": null,
            "justify_content": null,
            "_view_module": "@jupyter-widgets/base",
            "overflow": null,
            "_model_module_version": "1.2.0",
            "_view_count": null,
            "flex_flow": null,
            "width": null,
            "min_width": null,
            "border": null,
            "align_items": null,
            "bottom": null,
            "_model_module": "@jupyter-widgets/base",
            "top": null,
            "grid_column": null,
            "overflow_y": null,
            "overflow_x": null,
            "grid_auto_flow": null,
            "grid_area": null,
            "grid_template_columns": null,
            "flex": null,
            "_model_name": "LayoutModel",
            "justify_items": null,
            "grid_row": null,
            "max_height": null,
            "align_content": null,
            "visibility": null,
            "align_self": null,
            "height": null,
            "min_height": null,
            "padding": null,
            "grid_auto_rows": null,
            "grid_gap": null,
            "max_width": null,
            "order": null,
            "_view_module_version": "1.2.0",
            "grid_template_areas": null,
            "object_position": null,
            "object_fit": null,
            "grid_auto_columns": null,
            "margin": null,
            "display": null,
            "left": null
          }
        },
        "4bdde17f9c7242058ebf041e3599f285": {
          "model_module": "@jupyter-widgets/controls",
          "model_name": "HBoxModel",
          "model_module_version": "1.5.0",
          "state": {
            "_view_name": "HBoxView",
            "_dom_classes": [],
            "_model_name": "HBoxModel",
            "_view_module": "@jupyter-widgets/controls",
            "_model_module_version": "1.5.0",
            "_view_count": null,
            "_view_module_version": "1.5.0",
            "box_style": "",
            "layout": "IPY_MODEL_675e3e444307458992fad920c77c01f2",
            "_model_module": "@jupyter-widgets/controls",
            "children": [
              "IPY_MODEL_4f2b9d8e99bb44ed81068a6b5a490427",
              "IPY_MODEL_2d946f520abd4dc8b9488d7b0ab4840a",
              "IPY_MODEL_8edee36ac7ef4a7cb1f4006482efff49"
            ]
          }
        },
        "675e3e444307458992fad920c77c01f2": {
          "model_module": "@jupyter-widgets/base",
          "model_name": "LayoutModel",
          "model_module_version": "1.2.0",
          "state": {
            "_view_name": "LayoutView",
            "grid_template_rows": null,
            "right": null,
            "justify_content": null,
            "_view_module": "@jupyter-widgets/base",
            "overflow": null,
            "_model_module_version": "1.2.0",
            "_view_count": null,
            "flex_flow": null,
            "width": null,
            "min_width": null,
            "border": null,
            "align_items": null,
            "bottom": null,
            "_model_module": "@jupyter-widgets/base",
            "top": null,
            "grid_column": null,
            "overflow_y": null,
            "overflow_x": null,
            "grid_auto_flow": null,
            "grid_area": null,
            "grid_template_columns": null,
            "flex": null,
            "_model_name": "LayoutModel",
            "justify_items": null,
            "grid_row": null,
            "max_height": null,
            "align_content": null,
            "visibility": null,
            "align_self": null,
            "height": null,
            "min_height": null,
            "padding": null,
            "grid_auto_rows": null,
            "grid_gap": null,
            "max_width": null,
            "order": null,
            "_view_module_version": "1.2.0",
            "grid_template_areas": null,
            "object_position": null,
            "object_fit": null,
            "grid_auto_columns": null,
            "margin": null,
            "display": null,
            "left": null
          }
        },
        "4f2b9d8e99bb44ed81068a6b5a490427": {
          "model_module": "@jupyter-widgets/controls",
          "model_name": "HTMLModel",
          "model_module_version": "1.5.0",
          "state": {
            "_view_name": "HTMLView",
            "style": "IPY_MODEL_126d4782a3ae40c9ae3b23b6b5ce7463",
            "_dom_classes": [],
            "description": "",
            "_model_name": "HTMLModel",
            "placeholder": "​",
            "_view_module": "@jupyter-widgets/controls",
            "_model_module_version": "1.5.0",
            "value": " 36%",
            "_view_count": null,
            "_view_module_version": "1.5.0",
            "description_tooltip": null,
            "_model_module": "@jupyter-widgets/controls",
            "layout": "IPY_MODEL_1d457499d927452496abfd65fa4760ed"
          }
        },
        "2d946f520abd4dc8b9488d7b0ab4840a": {
          "model_module": "@jupyter-widgets/controls",
          "model_name": "FloatProgressModel",
          "model_module_version": "1.5.0",
          "state": {
            "_view_name": "ProgressView",
            "style": "IPY_MODEL_7eede036a3c84d44893ee86defb168db",
            "_dom_classes": [],
            "description": "",
            "_model_name": "FloatProgressModel",
            "bar_style": "",
            "max": 4734,
            "_view_module": "@jupyter-widgets/controls",
            "_model_module_version": "1.5.0",
            "value": 1682,
            "_view_count": null,
            "_view_module_version": "1.5.0",
            "orientation": "horizontal",
            "min": 0,
            "description_tooltip": null,
            "_model_module": "@jupyter-widgets/controls",
            "layout": "IPY_MODEL_078fd9b879364b5383a0e75597f69486"
          }
        },
        "8edee36ac7ef4a7cb1f4006482efff49": {
          "model_module": "@jupyter-widgets/controls",
          "model_name": "HTMLModel",
          "model_module_version": "1.5.0",
          "state": {
            "_view_name": "HTMLView",
            "style": "IPY_MODEL_bfe825de9d35433f897228952691c545",
            "_dom_classes": [],
            "description": "",
            "_model_name": "HTMLModel",
            "placeholder": "​",
            "_view_module": "@jupyter-widgets/controls",
            "_model_module_version": "1.5.0",
            "value": " 1682/4734 [37:15&lt;1:01:44,  1.21s/it]",
            "_view_count": null,
            "_view_module_version": "1.5.0",
            "description_tooltip": null,
            "_model_module": "@jupyter-widgets/controls",
            "layout": "IPY_MODEL_61e1054930984bb99e403c033bf04cbf"
          }
        },
        "126d4782a3ae40c9ae3b23b6b5ce7463": {
          "model_module": "@jupyter-widgets/controls",
          "model_name": "DescriptionStyleModel",
          "model_module_version": "1.5.0",
          "state": {
            "_view_name": "StyleView",
            "_model_name": "DescriptionStyleModel",
            "description_width": "",
            "_view_module": "@jupyter-widgets/base",
            "_model_module_version": "1.5.0",
            "_view_count": null,
            "_view_module_version": "1.2.0",
            "_model_module": "@jupyter-widgets/controls"
          }
        },
        "1d457499d927452496abfd65fa4760ed": {
          "model_module": "@jupyter-widgets/base",
          "model_name": "LayoutModel",
          "model_module_version": "1.2.0",
          "state": {
            "_view_name": "LayoutView",
            "grid_template_rows": null,
            "right": null,
            "justify_content": null,
            "_view_module": "@jupyter-widgets/base",
            "overflow": null,
            "_model_module_version": "1.2.0",
            "_view_count": null,
            "flex_flow": null,
            "width": null,
            "min_width": null,
            "border": null,
            "align_items": null,
            "bottom": null,
            "_model_module": "@jupyter-widgets/base",
            "top": null,
            "grid_column": null,
            "overflow_y": null,
            "overflow_x": null,
            "grid_auto_flow": null,
            "grid_area": null,
            "grid_template_columns": null,
            "flex": null,
            "_model_name": "LayoutModel",
            "justify_items": null,
            "grid_row": null,
            "max_height": null,
            "align_content": null,
            "visibility": null,
            "align_self": null,
            "height": null,
            "min_height": null,
            "padding": null,
            "grid_auto_rows": null,
            "grid_gap": null,
            "max_width": null,
            "order": null,
            "_view_module_version": "1.2.0",
            "grid_template_areas": null,
            "object_position": null,
            "object_fit": null,
            "grid_auto_columns": null,
            "margin": null,
            "display": null,
            "left": null
          }
        },
        "7eede036a3c84d44893ee86defb168db": {
          "model_module": "@jupyter-widgets/controls",
          "model_name": "ProgressStyleModel",
          "model_module_version": "1.5.0",
          "state": {
            "_view_name": "StyleView",
            "_model_name": "ProgressStyleModel",
            "description_width": "",
            "_view_module": "@jupyter-widgets/base",
            "_model_module_version": "1.5.0",
            "_view_count": null,
            "_view_module_version": "1.2.0",
            "bar_color": null,
            "_model_module": "@jupyter-widgets/controls"
          }
        },
        "078fd9b879364b5383a0e75597f69486": {
          "model_module": "@jupyter-widgets/base",
          "model_name": "LayoutModel",
          "model_module_version": "1.2.0",
          "state": {
            "_view_name": "LayoutView",
            "grid_template_rows": null,
            "right": null,
            "justify_content": null,
            "_view_module": "@jupyter-widgets/base",
            "overflow": null,
            "_model_module_version": "1.2.0",
            "_view_count": null,
            "flex_flow": null,
            "width": null,
            "min_width": null,
            "border": null,
            "align_items": null,
            "bottom": null,
            "_model_module": "@jupyter-widgets/base",
            "top": null,
            "grid_column": null,
            "overflow_y": null,
            "overflow_x": null,
            "grid_auto_flow": null,
            "grid_area": null,
            "grid_template_columns": null,
            "flex": null,
            "_model_name": "LayoutModel",
            "justify_items": null,
            "grid_row": null,
            "max_height": null,
            "align_content": null,
            "visibility": null,
            "align_self": null,
            "height": null,
            "min_height": null,
            "padding": null,
            "grid_auto_rows": null,
            "grid_gap": null,
            "max_width": null,
            "order": null,
            "_view_module_version": "1.2.0",
            "grid_template_areas": null,
            "object_position": null,
            "object_fit": null,
            "grid_auto_columns": null,
            "margin": null,
            "display": null,
            "left": null
          }
        },
        "bfe825de9d35433f897228952691c545": {
          "model_module": "@jupyter-widgets/controls",
          "model_name": "DescriptionStyleModel",
          "model_module_version": "1.5.0",
          "state": {
            "_view_name": "StyleView",
            "_model_name": "DescriptionStyleModel",
            "description_width": "",
            "_view_module": "@jupyter-widgets/base",
            "_model_module_version": "1.5.0",
            "_view_count": null,
            "_view_module_version": "1.2.0",
            "_model_module": "@jupyter-widgets/controls"
          }
        },
        "61e1054930984bb99e403c033bf04cbf": {
          "model_module": "@jupyter-widgets/base",
          "model_name": "LayoutModel",
          "model_module_version": "1.2.0",
          "state": {
            "_view_name": "LayoutView",
            "grid_template_rows": null,
            "right": null,
            "justify_content": null,
            "_view_module": "@jupyter-widgets/base",
            "overflow": null,
            "_model_module_version": "1.2.0",
            "_view_count": null,
            "flex_flow": null,
            "width": null,
            "min_width": null,
            "border": null,
            "align_items": null,
            "bottom": null,
            "_model_module": "@jupyter-widgets/base",
            "top": null,
            "grid_column": null,
            "overflow_y": null,
            "overflow_x": null,
            "grid_auto_flow": null,
            "grid_area": null,
            "grid_template_columns": null,
            "flex": null,
            "_model_name": "LayoutModel",
            "justify_items": null,
            "grid_row": null,
            "max_height": null,
            "align_content": null,
            "visibility": null,
            "align_self": null,
            "height": null,
            "min_height": null,
            "padding": null,
            "grid_auto_rows": null,
            "grid_gap": null,
            "max_width": null,
            "order": null,
            "_view_module_version": "1.2.0",
            "grid_template_areas": null,
            "object_position": null,
            "object_fit": null,
            "grid_auto_columns": null,
            "margin": null,
            "display": null,
            "left": null
          }
        },
        "0f0d71cb52714baa865522f3fbf7b7e4": {
          "model_module": "@jupyter-widgets/controls",
          "model_name": "HBoxModel",
          "model_module_version": "1.5.0",
          "state": {
            "_view_name": "HBoxView",
            "_dom_classes": [],
            "_model_name": "HBoxModel",
            "_view_module": "@jupyter-widgets/controls",
            "_model_module_version": "1.5.0",
            "_view_count": null,
            "_view_module_version": "1.5.0",
            "box_style": "",
            "layout": "IPY_MODEL_7c21f7b2d3e94bbd9460909bb8dd6218",
            "_model_module": "@jupyter-widgets/controls",
            "children": [
              "IPY_MODEL_ad19f8c310784564bbf46e67beccfbfb",
              "IPY_MODEL_0798d206749d4fe78a6d20641452560b",
              "IPY_MODEL_9bb9e9a245474ec98bdc6f3356a1b935"
            ]
          }
        },
        "7c21f7b2d3e94bbd9460909bb8dd6218": {
          "model_module": "@jupyter-widgets/base",
          "model_name": "LayoutModel",
          "model_module_version": "1.2.0",
          "state": {
            "_view_name": "LayoutView",
            "grid_template_rows": null,
            "right": null,
            "justify_content": null,
            "_view_module": "@jupyter-widgets/base",
            "overflow": null,
            "_model_module_version": "1.2.0",
            "_view_count": null,
            "flex_flow": null,
            "width": null,
            "min_width": null,
            "border": null,
            "align_items": null,
            "bottom": null,
            "_model_module": "@jupyter-widgets/base",
            "top": null,
            "grid_column": null,
            "overflow_y": null,
            "overflow_x": null,
            "grid_auto_flow": null,
            "grid_area": null,
            "grid_template_columns": null,
            "flex": null,
            "_model_name": "LayoutModel",
            "justify_items": null,
            "grid_row": null,
            "max_height": null,
            "align_content": null,
            "visibility": null,
            "align_self": null,
            "height": null,
            "min_height": null,
            "padding": null,
            "grid_auto_rows": null,
            "grid_gap": null,
            "max_width": null,
            "order": null,
            "_view_module_version": "1.2.0",
            "grid_template_areas": null,
            "object_position": null,
            "object_fit": null,
            "grid_auto_columns": null,
            "margin": null,
            "display": null,
            "left": null
          }
        },
        "ad19f8c310784564bbf46e67beccfbfb": {
          "model_module": "@jupyter-widgets/controls",
          "model_name": "HTMLModel",
          "model_module_version": "1.5.0",
          "state": {
            "_view_name": "HTMLView",
            "style": "IPY_MODEL_807c6d299c5346ce9ffc2db5a8fbb24c",
            "_dom_classes": [],
            "description": "",
            "_model_name": "HTMLModel",
            "placeholder": "​",
            "_view_module": "@jupyter-widgets/controls",
            "_model_module_version": "1.5.0",
            "value": "100%",
            "_view_count": null,
            "_view_module_version": "1.5.0",
            "description_tooltip": null,
            "_model_module": "@jupyter-widgets/controls",
            "layout": "IPY_MODEL_8e2cf1abdc9e4d7bb0f6e09a1038a096"
          }
        },
        "0798d206749d4fe78a6d20641452560b": {
          "model_module": "@jupyter-widgets/controls",
          "model_name": "FloatProgressModel",
          "model_module_version": "1.5.0",
          "state": {
            "_view_name": "ProgressView",
            "style": "IPY_MODEL_e6dc120bbdf44e30963dcc0edbd3ea94",
            "_dom_classes": [],
            "description": "",
            "_model_name": "FloatProgressModel",
            "bar_style": "",
            "max": 100,
            "_view_module": "@jupyter-widgets/controls",
            "_model_module_version": "1.5.0",
            "value": 100,
            "_view_count": null,
            "_view_module_version": "1.5.0",
            "orientation": "horizontal",
            "min": 0,
            "description_tooltip": null,
            "_model_module": "@jupyter-widgets/controls",
            "layout": "IPY_MODEL_22875ddd6d0844d48fa6e916bfa4c000"
          }
        },
        "9bb9e9a245474ec98bdc6f3356a1b935": {
          "model_module": "@jupyter-widgets/controls",
          "model_name": "HTMLModel",
          "model_module_version": "1.5.0",
          "state": {
            "_view_name": "HTMLView",
            "style": "IPY_MODEL_dd26d39de9d44fb081ed48d1f4c6441a",
            "_dom_classes": [],
            "description": "",
            "_model_name": "HTMLModel",
            "placeholder": "​",
            "_view_module": "@jupyter-widgets/controls",
            "_model_module_version": "1.5.0",
            "value": " 100/100 [00:45&lt;00:00,  2.24it/s]",
            "_view_count": null,
            "_view_module_version": "1.5.0",
            "description_tooltip": null,
            "_model_module": "@jupyter-widgets/controls",
            "layout": "IPY_MODEL_d1a0e5c863b140538930f50795ef279a"
          }
        },
        "807c6d299c5346ce9ffc2db5a8fbb24c": {
          "model_module": "@jupyter-widgets/controls",
          "model_name": "DescriptionStyleModel",
          "model_module_version": "1.5.0",
          "state": {
            "_view_name": "StyleView",
            "_model_name": "DescriptionStyleModel",
            "description_width": "",
            "_view_module": "@jupyter-widgets/base",
            "_model_module_version": "1.5.0",
            "_view_count": null,
            "_view_module_version": "1.2.0",
            "_model_module": "@jupyter-widgets/controls"
          }
        },
        "8e2cf1abdc9e4d7bb0f6e09a1038a096": {
          "model_module": "@jupyter-widgets/base",
          "model_name": "LayoutModel",
          "model_module_version": "1.2.0",
          "state": {
            "_view_name": "LayoutView",
            "grid_template_rows": null,
            "right": null,
            "justify_content": null,
            "_view_module": "@jupyter-widgets/base",
            "overflow": null,
            "_model_module_version": "1.2.0",
            "_view_count": null,
            "flex_flow": null,
            "width": null,
            "min_width": null,
            "border": null,
            "align_items": null,
            "bottom": null,
            "_model_module": "@jupyter-widgets/base",
            "top": null,
            "grid_column": null,
            "overflow_y": null,
            "overflow_x": null,
            "grid_auto_flow": null,
            "grid_area": null,
            "grid_template_columns": null,
            "flex": null,
            "_model_name": "LayoutModel",
            "justify_items": null,
            "grid_row": null,
            "max_height": null,
            "align_content": null,
            "visibility": null,
            "align_self": null,
            "height": null,
            "min_height": null,
            "padding": null,
            "grid_auto_rows": null,
            "grid_gap": null,
            "max_width": null,
            "order": null,
            "_view_module_version": "1.2.0",
            "grid_template_areas": null,
            "object_position": null,
            "object_fit": null,
            "grid_auto_columns": null,
            "margin": null,
            "display": null,
            "left": null
          }
        },
        "e6dc120bbdf44e30963dcc0edbd3ea94": {
          "model_module": "@jupyter-widgets/controls",
          "model_name": "ProgressStyleModel",
          "model_module_version": "1.5.0",
          "state": {
            "_view_name": "StyleView",
            "_model_name": "ProgressStyleModel",
            "description_width": "",
            "_view_module": "@jupyter-widgets/base",
            "_model_module_version": "1.5.0",
            "_view_count": null,
            "_view_module_version": "1.2.0",
            "bar_color": null,
            "_model_module": "@jupyter-widgets/controls"
          }
        },
        "22875ddd6d0844d48fa6e916bfa4c000": {
          "model_module": "@jupyter-widgets/base",
          "model_name": "LayoutModel",
          "model_module_version": "1.2.0",
          "state": {
            "_view_name": "LayoutView",
            "grid_template_rows": null,
            "right": null,
            "justify_content": null,
            "_view_module": "@jupyter-widgets/base",
            "overflow": null,
            "_model_module_version": "1.2.0",
            "_view_count": null,
            "flex_flow": null,
            "width": null,
            "min_width": null,
            "border": null,
            "align_items": null,
            "bottom": null,
            "_model_module": "@jupyter-widgets/base",
            "top": null,
            "grid_column": null,
            "overflow_y": null,
            "overflow_x": null,
            "grid_auto_flow": null,
            "grid_area": null,
            "grid_template_columns": null,
            "flex": null,
            "_model_name": "LayoutModel",
            "justify_items": null,
            "grid_row": null,
            "max_height": null,
            "align_content": null,
            "visibility": null,
            "align_self": null,
            "height": null,
            "min_height": null,
            "padding": null,
            "grid_auto_rows": null,
            "grid_gap": null,
            "max_width": null,
            "order": null,
            "_view_module_version": "1.2.0",
            "grid_template_areas": null,
            "object_position": null,
            "object_fit": null,
            "grid_auto_columns": null,
            "margin": null,
            "display": null,
            "left": null
          }
        },
        "dd26d39de9d44fb081ed48d1f4c6441a": {
          "model_module": "@jupyter-widgets/controls",
          "model_name": "DescriptionStyleModel",
          "model_module_version": "1.5.0",
          "state": {
            "_view_name": "StyleView",
            "_model_name": "DescriptionStyleModel",
            "description_width": "",
            "_view_module": "@jupyter-widgets/base",
            "_model_module_version": "1.5.0",
            "_view_count": null,
            "_view_module_version": "1.2.0",
            "_model_module": "@jupyter-widgets/controls"
          }
        },
        "d1a0e5c863b140538930f50795ef279a": {
          "model_module": "@jupyter-widgets/base",
          "model_name": "LayoutModel",
          "model_module_version": "1.2.0",
          "state": {
            "_view_name": "LayoutView",
            "grid_template_rows": null,
            "right": null,
            "justify_content": null,
            "_view_module": "@jupyter-widgets/base",
            "overflow": null,
            "_model_module_version": "1.2.0",
            "_view_count": null,
            "flex_flow": null,
            "width": null,
            "min_width": null,
            "border": null,
            "align_items": null,
            "bottom": null,
            "_model_module": "@jupyter-widgets/base",
            "top": null,
            "grid_column": null,
            "overflow_y": null,
            "overflow_x": null,
            "grid_auto_flow": null,
            "grid_area": null,
            "grid_template_columns": null,
            "flex": null,
            "_model_name": "LayoutModel",
            "justify_items": null,
            "grid_row": null,
            "max_height": null,
            "align_content": null,
            "visibility": null,
            "align_self": null,
            "height": null,
            "min_height": null,
            "padding": null,
            "grid_auto_rows": null,
            "grid_gap": null,
            "max_width": null,
            "order": null,
            "_view_module_version": "1.2.0",
            "grid_template_areas": null,
            "object_position": null,
            "object_fit": null,
            "grid_auto_columns": null,
            "margin": null,
            "display": null,
            "left": null
          }
        },
        "175976f4c8104585887336f54342c631": {
          "model_module": "@jupyter-widgets/controls",
          "model_name": "HBoxModel",
          "model_module_version": "1.5.0",
          "state": {
            "_view_name": "HBoxView",
            "_dom_classes": [],
            "_model_name": "HBoxModel",
            "_view_module": "@jupyter-widgets/controls",
            "_model_module_version": "1.5.0",
            "_view_count": null,
            "_view_module_version": "1.5.0",
            "box_style": "",
            "layout": "IPY_MODEL_5fa179df398d44e49c5c6368e9433cce",
            "_model_module": "@jupyter-widgets/controls",
            "children": [
              "IPY_MODEL_cebc970f3e5c45e1a0ddd04bd3ac1ea5",
              "IPY_MODEL_546a5b8474384038b085111bf279f0b4",
              "IPY_MODEL_a20ab99e122a47248d0bd1fe03ebdca1"
            ]
          }
        },
        "5fa179df398d44e49c5c6368e9433cce": {
          "model_module": "@jupyter-widgets/base",
          "model_name": "LayoutModel",
          "model_module_version": "1.2.0",
          "state": {
            "_view_name": "LayoutView",
            "grid_template_rows": null,
            "right": null,
            "justify_content": null,
            "_view_module": "@jupyter-widgets/base",
            "overflow": null,
            "_model_module_version": "1.2.0",
            "_view_count": null,
            "flex_flow": null,
            "width": null,
            "min_width": null,
            "border": null,
            "align_items": null,
            "bottom": null,
            "_model_module": "@jupyter-widgets/base",
            "top": null,
            "grid_column": null,
            "overflow_y": null,
            "overflow_x": null,
            "grid_auto_flow": null,
            "grid_area": null,
            "grid_template_columns": null,
            "flex": null,
            "_model_name": "LayoutModel",
            "justify_items": null,
            "grid_row": null,
            "max_height": null,
            "align_content": null,
            "visibility": null,
            "align_self": null,
            "height": null,
            "min_height": null,
            "padding": null,
            "grid_auto_rows": null,
            "grid_gap": null,
            "max_width": null,
            "order": null,
            "_view_module_version": "1.2.0",
            "grid_template_areas": null,
            "object_position": null,
            "object_fit": null,
            "grid_auto_columns": null,
            "margin": null,
            "display": null,
            "left": null
          }
        },
        "cebc970f3e5c45e1a0ddd04bd3ac1ea5": {
          "model_module": "@jupyter-widgets/controls",
          "model_name": "HTMLModel",
          "model_module_version": "1.5.0",
          "state": {
            "_view_name": "HTMLView",
            "style": "IPY_MODEL_b0b5dc9cc1d74882822bbcdede7fd100",
            "_dom_classes": [],
            "description": "",
            "_model_name": "HTMLModel",
            "placeholder": "​",
            "_view_module": "@jupyter-widgets/controls",
            "_model_module_version": "1.5.0",
            "value": "100%",
            "_view_count": null,
            "_view_module_version": "1.5.0",
            "description_tooltip": null,
            "_model_module": "@jupyter-widgets/controls",
            "layout": "IPY_MODEL_791c42ebb1d2438fa9c5b25944003125"
          }
        },
        "546a5b8474384038b085111bf279f0b4": {
          "model_module": "@jupyter-widgets/controls",
          "model_name": "FloatProgressModel",
          "model_module_version": "1.5.0",
          "state": {
            "_view_name": "ProgressView",
            "style": "IPY_MODEL_b8fcf9069e6648ad89b059ca06cd5db8",
            "_dom_classes": [],
            "description": "",
            "_model_name": "FloatProgressModel",
            "bar_style": "",
            "max": 100,
            "_view_module": "@jupyter-widgets/controls",
            "_model_module_version": "1.5.0",
            "value": 100,
            "_view_count": null,
            "_view_module_version": "1.5.0",
            "orientation": "horizontal",
            "min": 0,
            "description_tooltip": null,
            "_model_module": "@jupyter-widgets/controls",
            "layout": "IPY_MODEL_76d1f9cdd2f9430981fc269f208437c2"
          }
        },
        "a20ab99e122a47248d0bd1fe03ebdca1": {
          "model_module": "@jupyter-widgets/controls",
          "model_name": "HTMLModel",
          "model_module_version": "1.5.0",
          "state": {
            "_view_name": "HTMLView",
            "style": "IPY_MODEL_f5966172ea404e49bc1f18cfe31bd807",
            "_dom_classes": [],
            "description": "",
            "_model_name": "HTMLModel",
            "placeholder": "​",
            "_view_module": "@jupyter-widgets/controls",
            "_model_module_version": "1.5.0",
            "value": " 100/100 [00:45&lt;00:00,  2.24it/s]",
            "_view_count": null,
            "_view_module_version": "1.5.0",
            "description_tooltip": null,
            "_model_module": "@jupyter-widgets/controls",
            "layout": "IPY_MODEL_573e61bf87bc44c3bc11eb56958110b7"
          }
        },
        "b0b5dc9cc1d74882822bbcdede7fd100": {
          "model_module": "@jupyter-widgets/controls",
          "model_name": "DescriptionStyleModel",
          "model_module_version": "1.5.0",
          "state": {
            "_view_name": "StyleView",
            "_model_name": "DescriptionStyleModel",
            "description_width": "",
            "_view_module": "@jupyter-widgets/base",
            "_model_module_version": "1.5.0",
            "_view_count": null,
            "_view_module_version": "1.2.0",
            "_model_module": "@jupyter-widgets/controls"
          }
        },
        "791c42ebb1d2438fa9c5b25944003125": {
          "model_module": "@jupyter-widgets/base",
          "model_name": "LayoutModel",
          "model_module_version": "1.2.0",
          "state": {
            "_view_name": "LayoutView",
            "grid_template_rows": null,
            "right": null,
            "justify_content": null,
            "_view_module": "@jupyter-widgets/base",
            "overflow": null,
            "_model_module_version": "1.2.0",
            "_view_count": null,
            "flex_flow": null,
            "width": null,
            "min_width": null,
            "border": null,
            "align_items": null,
            "bottom": null,
            "_model_module": "@jupyter-widgets/base",
            "top": null,
            "grid_column": null,
            "overflow_y": null,
            "overflow_x": null,
            "grid_auto_flow": null,
            "grid_area": null,
            "grid_template_columns": null,
            "flex": null,
            "_model_name": "LayoutModel",
            "justify_items": null,
            "grid_row": null,
            "max_height": null,
            "align_content": null,
            "visibility": null,
            "align_self": null,
            "height": null,
            "min_height": null,
            "padding": null,
            "grid_auto_rows": null,
            "grid_gap": null,
            "max_width": null,
            "order": null,
            "_view_module_version": "1.2.0",
            "grid_template_areas": null,
            "object_position": null,
            "object_fit": null,
            "grid_auto_columns": null,
            "margin": null,
            "display": null,
            "left": null
          }
        },
        "b8fcf9069e6648ad89b059ca06cd5db8": {
          "model_module": "@jupyter-widgets/controls",
          "model_name": "ProgressStyleModel",
          "model_module_version": "1.5.0",
          "state": {
            "_view_name": "StyleView",
            "_model_name": "ProgressStyleModel",
            "description_width": "",
            "_view_module": "@jupyter-widgets/base",
            "_model_module_version": "1.5.0",
            "_view_count": null,
            "_view_module_version": "1.2.0",
            "bar_color": null,
            "_model_module": "@jupyter-widgets/controls"
          }
        },
        "76d1f9cdd2f9430981fc269f208437c2": {
          "model_module": "@jupyter-widgets/base",
          "model_name": "LayoutModel",
          "model_module_version": "1.2.0",
          "state": {
            "_view_name": "LayoutView",
            "grid_template_rows": null,
            "right": null,
            "justify_content": null,
            "_view_module": "@jupyter-widgets/base",
            "overflow": null,
            "_model_module_version": "1.2.0",
            "_view_count": null,
            "flex_flow": null,
            "width": null,
            "min_width": null,
            "border": null,
            "align_items": null,
            "bottom": null,
            "_model_module": "@jupyter-widgets/base",
            "top": null,
            "grid_column": null,
            "overflow_y": null,
            "overflow_x": null,
            "grid_auto_flow": null,
            "grid_area": null,
            "grid_template_columns": null,
            "flex": null,
            "_model_name": "LayoutModel",
            "justify_items": null,
            "grid_row": null,
            "max_height": null,
            "align_content": null,
            "visibility": null,
            "align_self": null,
            "height": null,
            "min_height": null,
            "padding": null,
            "grid_auto_rows": null,
            "grid_gap": null,
            "max_width": null,
            "order": null,
            "_view_module_version": "1.2.0",
            "grid_template_areas": null,
            "object_position": null,
            "object_fit": null,
            "grid_auto_columns": null,
            "margin": null,
            "display": null,
            "left": null
          }
        },
        "f5966172ea404e49bc1f18cfe31bd807": {
          "model_module": "@jupyter-widgets/controls",
          "model_name": "DescriptionStyleModel",
          "model_module_version": "1.5.0",
          "state": {
            "_view_name": "StyleView",
            "_model_name": "DescriptionStyleModel",
            "description_width": "",
            "_view_module": "@jupyter-widgets/base",
            "_model_module_version": "1.5.0",
            "_view_count": null,
            "_view_module_version": "1.2.0",
            "_model_module": "@jupyter-widgets/controls"
          }
        },
        "573e61bf87bc44c3bc11eb56958110b7": {
          "model_module": "@jupyter-widgets/base",
          "model_name": "LayoutModel",
          "model_module_version": "1.2.0",
          "state": {
            "_view_name": "LayoutView",
            "grid_template_rows": null,
            "right": null,
            "justify_content": null,
            "_view_module": "@jupyter-widgets/base",
            "overflow": null,
            "_model_module_version": "1.2.0",
            "_view_count": null,
            "flex_flow": null,
            "width": null,
            "min_width": null,
            "border": null,
            "align_items": null,
            "bottom": null,
            "_model_module": "@jupyter-widgets/base",
            "top": null,
            "grid_column": null,
            "overflow_y": null,
            "overflow_x": null,
            "grid_auto_flow": null,
            "grid_area": null,
            "grid_template_columns": null,
            "flex": null,
            "_model_name": "LayoutModel",
            "justify_items": null,
            "grid_row": null,
            "max_height": null,
            "align_content": null,
            "visibility": null,
            "align_self": null,
            "height": null,
            "min_height": null,
            "padding": null,
            "grid_auto_rows": null,
            "grid_gap": null,
            "max_width": null,
            "order": null,
            "_view_module_version": "1.2.0",
            "grid_template_areas": null,
            "object_position": null,
            "object_fit": null,
            "grid_auto_columns": null,
            "margin": null,
            "display": null,
            "left": null
          }
        },
        "5d09f553d53c447382f193b5e69def31": {
          "model_module": "@jupyter-widgets/controls",
          "model_name": "HBoxModel",
          "model_module_version": "1.5.0",
          "state": {
            "_view_name": "HBoxView",
            "_dom_classes": [],
            "_model_name": "HBoxModel",
            "_view_module": "@jupyter-widgets/controls",
            "_model_module_version": "1.5.0",
            "_view_count": null,
            "_view_module_version": "1.5.0",
            "box_style": "",
            "layout": "IPY_MODEL_8cb64b8b73164c8db02c7e3c4fd82ad6",
            "_model_module": "@jupyter-widgets/controls",
            "children": [
              "IPY_MODEL_3d0b29d35c7646c09b69249a20cee929",
              "IPY_MODEL_cd97178f01f14445aae79dd2b1e1e1f9",
              "IPY_MODEL_293bdb5683c34c318b16ef3059128d30"
            ]
          }
        },
        "8cb64b8b73164c8db02c7e3c4fd82ad6": {
          "model_module": "@jupyter-widgets/base",
          "model_name": "LayoutModel",
          "model_module_version": "1.2.0",
          "state": {
            "_view_name": "LayoutView",
            "grid_template_rows": null,
            "right": null,
            "justify_content": null,
            "_view_module": "@jupyter-widgets/base",
            "overflow": null,
            "_model_module_version": "1.2.0",
            "_view_count": null,
            "flex_flow": null,
            "width": null,
            "min_width": null,
            "border": null,
            "align_items": null,
            "bottom": null,
            "_model_module": "@jupyter-widgets/base",
            "top": null,
            "grid_column": null,
            "overflow_y": null,
            "overflow_x": null,
            "grid_auto_flow": null,
            "grid_area": null,
            "grid_template_columns": null,
            "flex": null,
            "_model_name": "LayoutModel",
            "justify_items": null,
            "grid_row": null,
            "max_height": null,
            "align_content": null,
            "visibility": null,
            "align_self": null,
            "height": null,
            "min_height": null,
            "padding": null,
            "grid_auto_rows": null,
            "grid_gap": null,
            "max_width": null,
            "order": null,
            "_view_module_version": "1.2.0",
            "grid_template_areas": null,
            "object_position": null,
            "object_fit": null,
            "grid_auto_columns": null,
            "margin": null,
            "display": null,
            "left": null
          }
        },
        "3d0b29d35c7646c09b69249a20cee929": {
          "model_module": "@jupyter-widgets/controls",
          "model_name": "HTMLModel",
          "model_module_version": "1.5.0",
          "state": {
            "_view_name": "HTMLView",
            "style": "IPY_MODEL_d289c5462cd64fb28b453ea52e2b7e28",
            "_dom_classes": [],
            "description": "",
            "_model_name": "HTMLModel",
            "placeholder": "​",
            "_view_module": "@jupyter-widgets/controls",
            "_model_module_version": "1.5.0",
            "value": "100%",
            "_view_count": null,
            "_view_module_version": "1.5.0",
            "description_tooltip": null,
            "_model_module": "@jupyter-widgets/controls",
            "layout": "IPY_MODEL_a98c876ed93b4883ab23a21c146e95f4"
          }
        },
        "cd97178f01f14445aae79dd2b1e1e1f9": {
          "model_module": "@jupyter-widgets/controls",
          "model_name": "FloatProgressModel",
          "model_module_version": "1.5.0",
          "state": {
            "_view_name": "ProgressView",
            "style": "IPY_MODEL_71c05be228634ecb8a019b72854e19ba",
            "_dom_classes": [],
            "description": "",
            "_model_name": "FloatProgressModel",
            "bar_style": "",
            "max": 100,
            "_view_module": "@jupyter-widgets/controls",
            "_model_module_version": "1.5.0",
            "value": 100,
            "_view_count": null,
            "_view_module_version": "1.5.0",
            "orientation": "horizontal",
            "min": 0,
            "description_tooltip": null,
            "_model_module": "@jupyter-widgets/controls",
            "layout": "IPY_MODEL_0cef40139d684000b523abbc353a7539"
          }
        },
        "293bdb5683c34c318b16ef3059128d30": {
          "model_module": "@jupyter-widgets/controls",
          "model_name": "HTMLModel",
          "model_module_version": "1.5.0",
          "state": {
            "_view_name": "HTMLView",
            "style": "IPY_MODEL_f48a3de58db04deaad9df3ecf5bf9092",
            "_dom_classes": [],
            "description": "",
            "_model_name": "HTMLModel",
            "placeholder": "​",
            "_view_module": "@jupyter-widgets/controls",
            "_model_module_version": "1.5.0",
            "value": " 100/100 [00:44&lt;00:00,  2.27it/s]",
            "_view_count": null,
            "_view_module_version": "1.5.0",
            "description_tooltip": null,
            "_model_module": "@jupyter-widgets/controls",
            "layout": "IPY_MODEL_8f7d437e09be46c89044a20db7b3a287"
          }
        },
        "d289c5462cd64fb28b453ea52e2b7e28": {
          "model_module": "@jupyter-widgets/controls",
          "model_name": "DescriptionStyleModel",
          "model_module_version": "1.5.0",
          "state": {
            "_view_name": "StyleView",
            "_model_name": "DescriptionStyleModel",
            "description_width": "",
            "_view_module": "@jupyter-widgets/base",
            "_model_module_version": "1.5.0",
            "_view_count": null,
            "_view_module_version": "1.2.0",
            "_model_module": "@jupyter-widgets/controls"
          }
        },
        "a98c876ed93b4883ab23a21c146e95f4": {
          "model_module": "@jupyter-widgets/base",
          "model_name": "LayoutModel",
          "model_module_version": "1.2.0",
          "state": {
            "_view_name": "LayoutView",
            "grid_template_rows": null,
            "right": null,
            "justify_content": null,
            "_view_module": "@jupyter-widgets/base",
            "overflow": null,
            "_model_module_version": "1.2.0",
            "_view_count": null,
            "flex_flow": null,
            "width": null,
            "min_width": null,
            "border": null,
            "align_items": null,
            "bottom": null,
            "_model_module": "@jupyter-widgets/base",
            "top": null,
            "grid_column": null,
            "overflow_y": null,
            "overflow_x": null,
            "grid_auto_flow": null,
            "grid_area": null,
            "grid_template_columns": null,
            "flex": null,
            "_model_name": "LayoutModel",
            "justify_items": null,
            "grid_row": null,
            "max_height": null,
            "align_content": null,
            "visibility": null,
            "align_self": null,
            "height": null,
            "min_height": null,
            "padding": null,
            "grid_auto_rows": null,
            "grid_gap": null,
            "max_width": null,
            "order": null,
            "_view_module_version": "1.2.0",
            "grid_template_areas": null,
            "object_position": null,
            "object_fit": null,
            "grid_auto_columns": null,
            "margin": null,
            "display": null,
            "left": null
          }
        },
        "71c05be228634ecb8a019b72854e19ba": {
          "model_module": "@jupyter-widgets/controls",
          "model_name": "ProgressStyleModel",
          "model_module_version": "1.5.0",
          "state": {
            "_view_name": "StyleView",
            "_model_name": "ProgressStyleModel",
            "description_width": "",
            "_view_module": "@jupyter-widgets/base",
            "_model_module_version": "1.5.0",
            "_view_count": null,
            "_view_module_version": "1.2.0",
            "bar_color": null,
            "_model_module": "@jupyter-widgets/controls"
          }
        },
        "0cef40139d684000b523abbc353a7539": {
          "model_module": "@jupyter-widgets/base",
          "model_name": "LayoutModel",
          "model_module_version": "1.2.0",
          "state": {
            "_view_name": "LayoutView",
            "grid_template_rows": null,
            "right": null,
            "justify_content": null,
            "_view_module": "@jupyter-widgets/base",
            "overflow": null,
            "_model_module_version": "1.2.0",
            "_view_count": null,
            "flex_flow": null,
            "width": null,
            "min_width": null,
            "border": null,
            "align_items": null,
            "bottom": null,
            "_model_module": "@jupyter-widgets/base",
            "top": null,
            "grid_column": null,
            "overflow_y": null,
            "overflow_x": null,
            "grid_auto_flow": null,
            "grid_area": null,
            "grid_template_columns": null,
            "flex": null,
            "_model_name": "LayoutModel",
            "justify_items": null,
            "grid_row": null,
            "max_height": null,
            "align_content": null,
            "visibility": null,
            "align_self": null,
            "height": null,
            "min_height": null,
            "padding": null,
            "grid_auto_rows": null,
            "grid_gap": null,
            "max_width": null,
            "order": null,
            "_view_module_version": "1.2.0",
            "grid_template_areas": null,
            "object_position": null,
            "object_fit": null,
            "grid_auto_columns": null,
            "margin": null,
            "display": null,
            "left": null
          }
        },
        "f48a3de58db04deaad9df3ecf5bf9092": {
          "model_module": "@jupyter-widgets/controls",
          "model_name": "DescriptionStyleModel",
          "model_module_version": "1.5.0",
          "state": {
            "_view_name": "StyleView",
            "_model_name": "DescriptionStyleModel",
            "description_width": "",
            "_view_module": "@jupyter-widgets/base",
            "_model_module_version": "1.5.0",
            "_view_count": null,
            "_view_module_version": "1.2.0",
            "_model_module": "@jupyter-widgets/controls"
          }
        },
        "8f7d437e09be46c89044a20db7b3a287": {
          "model_module": "@jupyter-widgets/base",
          "model_name": "LayoutModel",
          "model_module_version": "1.2.0",
          "state": {
            "_view_name": "LayoutView",
            "grid_template_rows": null,
            "right": null,
            "justify_content": null,
            "_view_module": "@jupyter-widgets/base",
            "overflow": null,
            "_model_module_version": "1.2.0",
            "_view_count": null,
            "flex_flow": null,
            "width": null,
            "min_width": null,
            "border": null,
            "align_items": null,
            "bottom": null,
            "_model_module": "@jupyter-widgets/base",
            "top": null,
            "grid_column": null,
            "overflow_y": null,
            "overflow_x": null,
            "grid_auto_flow": null,
            "grid_area": null,
            "grid_template_columns": null,
            "flex": null,
            "_model_name": "LayoutModel",
            "justify_items": null,
            "grid_row": null,
            "max_height": null,
            "align_content": null,
            "visibility": null,
            "align_self": null,
            "height": null,
            "min_height": null,
            "padding": null,
            "grid_auto_rows": null,
            "grid_gap": null,
            "max_width": null,
            "order": null,
            "_view_module_version": "1.2.0",
            "grid_template_areas": null,
            "object_position": null,
            "object_fit": null,
            "grid_auto_columns": null,
            "margin": null,
            "display": null,
            "left": null
          }
        }
      }
    }
  },
  "cells": [
    {
      "cell_type": "markdown",
      "metadata": {
        "id": "view-in-github",
        "colab_type": "text"
      },
      "source": [
        "<a href=\"https://colab.research.google.com/github/vicliv/2048-AutoSolver/blob/main/Project_3_Notebook.ipynb\" target=\"_parent\"><img src=\"https://colab.research.google.com/assets/colab-badge.svg\" alt=\"Open In Colab\"/></a>"
      ]
    },
    {
      "cell_type": "markdown",
      "metadata": {
        "id": "Msqh4iDyCudk"
      },
      "source": [
        "# Project 3 - Convolution Neural Network"
      ]
    },
    {
      "cell_type": "markdown",
      "metadata": {
        "id": "CpzLeM6RCudt"
      },
      "source": [
        "## Team Members"
      ]
    },
    {
      "cell_type": "markdown",
      "metadata": {
        "id": "LjQkokOPCudu"
      },
      "source": [
        "Le-Li Mao (260800098)"
      ]
    },
    {
      "cell_type": "markdown",
      "metadata": {
        "id": "diF0MA9uCudu"
      },
      "source": [
        "Victor Livernoche (260926276)"
      ]
    },
    {
      "cell_type": "markdown",
      "metadata": {
        "id": "XXsMnElHCudv"
      },
      "source": [
        "Enan Ashaduzzaman (260805923)"
      ]
    },
    {
      "cell_type": "markdown",
      "metadata": {
        "id": "GXOuUvc6Cudw"
      },
      "source": [
        "## Initializing Dependency"
      ]
    },
    {
      "cell_type": "code",
      "metadata": {
        "id": "RNubcKypCudx"
      },
      "source": [
        "# System Imports\n",
        "from os import remove\n",
        "import string\n",
        "\n",
        "# Pytorch imports\n",
        "import torch\n",
        "import torch.nn as nn\n",
        "import torch.nn.functional as F\n",
        "import torch.optim as optim\n",
        "from torch.optim.lr_scheduler import ExponentialLR\n",
        "from torch.utils.data import TensorDataset, DataLoader, random_split\n",
        "from torchvision.transforms import RandomAffine, RandomPerspective\n",
        "from torchvision.transforms.functional import normalize\n",
        "device = torch.device('cuda' if torch.cuda.is_available() else 'cpu')\n",
        "\n",
        "# Dataloading and saving\n",
        "import pickle as pkl\n",
        "import pandas as pd\n",
        "\n",
        "# Numpy\n",
        "import numpy as np\n",
        "\n",
        "# Logging and Plotting\n",
        "%matplotlib inline\n",
        "import matplotlib.pyplot as plt\n",
        "from tqdm.notebook import tqdm"
      ],
      "execution_count": 1,
      "outputs": []
    },
    {
      "cell_type": "markdown",
      "metadata": {
        "id": "SCDRadzxPnre"
      },
      "source": [
        "Mount Google Drive To Access Data and Store Model"
      ]
    },
    {
      "cell_type": "code",
      "metadata": {
        "colab": {
          "base_uri": "https://localhost:8080/"
        },
        "id": "obkwBBR8Pm1a",
        "outputId": "cbe2c5f5-033b-4d9b-b9b0-bf8b912eb927"
      },
      "source": [
        "from google.colab import drive\n",
        "drive.mount('/content/drive')"
      ],
      "execution_count": 2,
      "outputs": [
        {
          "output_type": "stream",
          "name": "stdout",
          "text": [
            "Mounted at /content/drive\n"
          ]
        }
      ]
    },
    {
      "cell_type": "markdown",
      "metadata": {
        "id": "nhtudTKhCudz"
      },
      "source": [
        "## Loading Data"
      ]
    },
    {
      "cell_type": "code",
      "metadata": {
        "id": "nTc9y2J_Cud0"
      },
      "source": [
        "mapping = list(string.ascii_lowercase) \n",
        "training_data, training_labels, testing_data = None, None, None\n",
        "with open(\"/content/drive/My Drive/data/images_l.pkl\", 'rb') as f: \n",
        "    training_data = pkl.load(f)\n",
        "    validation_size = training_data.shape[0]//10\n",
        "    validation_data = training_data[0:validation_size]\n",
        "    training_data = training_data[validation_size:]\n",
        "with open(\"/content/drive/My Drive/data/labels_l.pkl\", 'rb') as f: \n",
        "    training_labels = pkl.load(f)\n",
        "    validation_size = training_labels.shape[0]//10\n",
        "    validation_labels = training_labels[0:validation_size]\n",
        "    training_labels = training_labels[validation_size:]\n",
        "with open(\"/content/drive/My Drive/data/images_test.pkl\", 'rb') as f: \n",
        "    testing_data = pkl.load(f)\n",
        "with open(\"/content/drive/My Drive/data/images_ul.pkl\", 'rb') as f: \n",
        "    unlabeled_data = pkl.load(f)"
      ],
      "execution_count": 3,
      "outputs": []
    },
    {
      "cell_type": "markdown",
      "metadata": {
        "id": "I6d_j7rMFpZg"
      },
      "source": [
        "## Preprocessing"
      ]
    },
    {
      "cell_type": "markdown",
      "metadata": {
        "id": "8O-Sz56Rptrd"
      },
      "source": [
        "### Preprocessing Helper Functions"
      ]
    },
    {
      "cell_type": "code",
      "metadata": {
        "id": "n5_VqihgmpXu"
      },
      "source": [
        "def convert_labels_to_readables(labels):\n",
        "  readables = []\n",
        "  for label in labels:\n",
        "    l1, l2 = int(label[0]), mapping[label[1].int()]\n",
        "    readables.append((l1,l2,))\n",
        "  return readables"
      ],
      "execution_count": 4,
      "outputs": []
    },
    {
      "cell_type": "code",
      "metadata": {
        "id": "67D6zKQtpG8h"
      },
      "source": [
        "# show images\n",
        "def img_grid(row,col,imgs):\n",
        "  if imgs is None: return\n",
        "  for r in range(row):\n",
        "    fig, axs = plt.subplots(nrows=1, ncols=col, figsize=(7.,10.))\n",
        "    for i, ax in enumerate(axs.flatten()):\n",
        "        if(len(imgs) <= r*col+i): \n",
        "          return\n",
        "        plt.sca(ax)\n",
        "        plt.imshow(imgs[r*col+i])    \n",
        "    # plt.colorbar()\n",
        "    plt.show()"
      ],
      "execution_count": 5,
      "outputs": []
    },
    {
      "cell_type": "code",
      "metadata": {
        "colab": {
          "base_uri": "https://localhost:8080/",
          "height": 221
        },
        "id": "Phh_bfmCrzPf",
        "outputId": "dc8b115b-618e-435a-975a-26a6f69f4f0d"
      },
      "source": [
        "affine_manager = RandomAffine(30, scale=(0.9,1.1), shear=10)\n",
        "def generate_affine(image_tensor, num):\n",
        "    outputs = []\n",
        "    for _ in range(num):\n",
        "      outputs.append(affine_manager(image_tensor))\n",
        "    return outputs\n",
        "\n",
        "sample_tensor = torch.from_numpy(training_data[989,None]).float()\n",
        "affined_tensors = map(lambda x: x[0], generate_affine(sample_tensor,9))\n",
        "img_grid(2,5,[sample_tensor[0],*affined_tensors])"
      ],
      "execution_count": 6,
      "outputs": [
        {
          "output_type": "display_data",
          "data": {
            "image/png": "[encoded data removed]",
            "text/plain": [
              "<Figure size 504x720 with 5 Axes>"
            ]
          },
          "metadata": {
            "needs_background": "light"
          }
        },
        {
          "output_type": "display_data",
          "data": {
            "image/png": "[encoded data removed]",
            "text/plain": [
              "<Figure size 504x720 with 5 Axes>"
            ]
          },
          "metadata": {
            "needs_background": "light"
          }
        }
      ]
    },
    {
      "cell_type": "code",
      "metadata": {
        "colab": {
          "base_uri": "https://localhost:8080/",
          "height": 221
        },
        "id": "HfO06Y0L1q56",
        "outputId": "40a60645-a1cc-4fd8-cfbf-311907a13798"
      },
      "source": [
        "perspective_manager = RandomPerspective(0.5)\n",
        "def generate_pespective(image_tensor, num):\n",
        "    outputs = []\n",
        "    for _ in range(num):\n",
        "      outputs.append(perspective_manager(image_tensor))\n",
        "    return outputs\n",
        "\n",
        "sample_tensor = torch.from_numpy(training_data[999,None]).float()\n",
        "perspective_tensors = map(lambda x: x[0], generate_pespective(sample_tensor,9))\n",
        "img_grid(2,5,[sample_tensor[0],*perspective_tensors])"
      ],
      "execution_count": 7,
      "outputs": [
        {
          "output_type": "display_data",
          "data": {
            "image/png": "[encoded data removed]",
            "text/plain": [
              "<Figure size 504x720 with 5 Axes>"
            ]
          },
          "metadata": {
            "needs_background": "light"
          }
        },
        {
          "output_type": "display_data",
          "data": {
            "image/png": "[encoded data removed]",
            "text/plain": [
              "<Figure size 504x720 with 5 Axes>"
            ]
          },
          "metadata": {
            "needs_background": "light"
          }
        }
      ]
    },
    {
      "cell_type": "code",
      "metadata": {
        "id": "SBJcLOQAXrKY"
      },
      "source": [
        "# transform all data to the output format\n",
        "def process_training_data(data, labels, affine_cnt = 0, perspective_cnt = 0):\n",
        "  multiplier = (1+affine_cnt+perspective_cnt)\n",
        "  data_tensor = torch.from_numpy(data[:,None]).float()\n",
        "  new_data = torch.empty((len(data)*multiplier,1,56,56))\n",
        "  num_labels = torch.empty(len(data)*multiplier)\n",
        "  letter_labels = torch.empty(len(data)*multiplier)\n",
        "  output_index = 0\n",
        "  for i in tqdm(range(len(data_tensor))):\n",
        "    # Assign the labels to the new data\n",
        "    num_labels[i*multiplier:(i+1)*multiplier] = int(np.argmax(labels[i,0:10]))\n",
        "    letter_labels[i*multiplier:(i+1)*multiplier] = int(np.argmax(labels[i,10:]))\n",
        "    # Creating the rotation and sharpness images\n",
        "    norm_img = torch.clip(data_tensor[i],0,255)\n",
        "    mean, std = torch.mean(norm_img), torch.std(norm_img)\n",
        "    norm_img = normalize(norm_img, [mean], [std])\n",
        "    new_data[output_index] = norm_img; output_index+=1\n",
        "    for r_img in generate_affine(norm_img, affine_cnt):\n",
        "      new_data[output_index] = r_img; output_index+=1\n",
        "    for s_img in generate_pespective(norm_img, perspective_cnt):\n",
        "      new_data[output_index] = s_img; output_index+=1\n",
        "  \n",
        "  # Creating the datasets\n",
        "  multi_label_tensor = torch.stack((num_labels,letter_labels), axis=1).long()\n",
        "  dataset = TensorDataset(new_data, multi_label_tensor)\n",
        "  return dataset\n",
        "  "
      ],
      "execution_count": 8,
      "outputs": []
    },
    {
      "cell_type": "code",
      "metadata": {
        "id": "aTvuUGXpQZkf"
      },
      "source": [
        "def make_data_loader(dataset, batch_size=30, shuffle=True, num_workers=2):\n",
        "  dataloader = DataLoader(dataset, batch_size = batch_size, shuffle = shuffle, num_workers = num_workers)\n",
        "  return dataloader"
      ],
      "execution_count": 9,
      "outputs": []
    },
    {
      "cell_type": "code",
      "metadata": {
        "id": "ivuz449qgNV7"
      },
      "source": [
        "def process_testing_data(data):\n",
        "  data_tensor = torch.from_numpy(data[:,None]).float()\n",
        "  dataset = torch.empty((len(data),1,56,56))\n",
        "  for i in tqdm(range(len(data_tensor))):\n",
        "    mean, std = torch.mean(data_tensor[i]), torch.std(data_tensor[i])\n",
        "    norm_img = normalize(data_tensor[i], [mean], [std])\n",
        "    dataset[i] = norm_img\n",
        "  return dataset\n"
      ],
      "execution_count": 10,
      "outputs": []
    },
    {
      "cell_type": "code",
      "metadata": {
        "id": "XDx3jGEUja71"
      },
      "source": [
        "# transform all data to the output format\n",
        "def process_unlabeled_data(data, labels, affine_cnt = 0, perspective_cnt = 0):\n",
        "  multiplier = (1+affine_cnt+perspective_cnt)\n",
        "  data_tensor = torch.from_numpy(data[:,None]).float()\n",
        "  new_data = torch.empty((len(data)*multiplier,1,56,56))\n",
        "  num_labels = torch.empty(len(data)*multiplier)\n",
        "  letter_labels = torch.empty(len(data)*multiplier)\n",
        "  output_index = 0\n",
        "  for i in tqdm(range(len(data_tensor))):\n",
        "    # Assign the labels to the new data\n",
        "    num_labels[i*multiplier:(i+1)*multiplier] = labels[i,0]\n",
        "    letter_labels[i*multiplier:(i+1)*multiplier] = labels[i,1]\n",
        "    # Creating the rotation and sharpness images\n",
        "    mean, std = torch.mean(data_tensor[i]), torch.std(data_tensor[i])\n",
        "    norm_img = normalize(data_tensor[i], [mean], [std])\n",
        "    new_data[output_index] = norm_img; output_index+=1\n",
        "    for r_img in generate_affine(norm_img, affine_cnt):\n",
        "      new_data[output_index] = r_img; output_index+=1\n",
        "    for s_img in generate_pespective(norm_img, perspective_cnt):\n",
        "      new_data[output_index] = s_img; output_index+=1\n",
        "  \n",
        "  # Creating the datasets\n",
        "  multi_label_tensor = torch.stack((num_labels,letter_labels), axis=1).long()\n",
        "  dataset = TensorDataset(new_data, multi_label_tensor)\n",
        "  return dataset"
      ],
      "execution_count": 11,
      "outputs": []
    },
    {
      "cell_type": "markdown",
      "metadata": {
        "id": "P1Yf-lRvp0V4"
      },
      "source": [
        "### Processing The Data"
      ]
    },
    {
      "cell_type": "markdown",
      "metadata": {
        "id": "eo0NbFKGJDbi"
      },
      "source": [
        "Process the data and put the data into dataloader"
      ]
    },
    {
      "cell_type": "code",
      "metadata": {
        "colab": {
          "base_uri": "https://localhost:8080/",
          "height": 67,
          "referenced_widgets": [
            "667394c8d1704241871f021bb20fd622",
            "c48284e7faad424ca3b74022508941c6",
            "c443553a60624583bc21032f3ae5d32d",
            "ee4eb39d752d4afdbc161f6ae342be9d",
            "8b1f910b11e34355a4af6a390aa3e46c",
            "34eb174c8d0b44c486bf363de1346eab",
            "53e8d248d2674d838a0088f7dd8fcd77",
            "d2652456c79e4c86980e5d3bf29c3351",
            "007d26484e6c4f86afd006526a479bf0",
            "d17e7b36a0b2472196f4abeedf28b3e1",
            "9ebacd36f3b24a2c8779a0b0fe4ee915"
          ]
        },
        "id": "peHFpFQsvaQg",
        "outputId": "e89849b8-6ef0-4bd1-ef80-ac360ab859d5"
      },
      "source": [
        "print(\"Processing Training Data\")\n",
        "training_dataset = process_training_data(training_data, training_labels, 3, 2)\n",
        "\n",
        "import torchvision.datasets as dset\n",
        "import torchvision.transforms as transforms\n",
        "import torchvision.utils as vutils\n",
        "from PIL import Image\n",
        "import h5py\n",
        " \n",
        "class dataset_h5(torch.utils.data.Dataset):\n",
        "    def __init__(self, in_file, transform=None):\n",
        "        super(dataset_h5, self).__init__()\n",
        " \n",
        "        self.file = h5py.File(in_file, 'r')\n",
        "        self.transform = transform\n",
        " \n",
        "    def __getitem__(self, index):\n",
        "        x = self.file['X_train'][index, ...]\n",
        "        y = self.file['Y_train'][index, ...]\n",
        "        \n",
        "        # Preprocessing each image\n",
        "        if self.transform is not None:\n",
        "            x = self.transform(x)        \n",
        "        \n",
        "        return x, y\n",
        " \n",
        "    def __len__(self):\n",
        "        return self.file['X_train'].shape[0]\n",
        "training_set, training_labels = training_dataset[:]\n",
        "with h5py.File('data.h', \"w\") as out:\n",
        "   out['X_train'] = training_set\n",
        "   out['Y_train'] = training_labels\n",
        "dataset = dataset_h5(\"data.h\")\n",
        "training_loader = DataLoader(\n",
        "        dataset, batch_size=30, shuffle=True, num_workers=2)"
      ],
      "execution_count": 12,
      "outputs": [
        {
          "output_type": "stream",
          "name": "stdout",
          "text": [
            "Processing Training Data\n"
          ]
        },
        {
          "output_type": "display_data",
          "data": {
            "application/vnd.jupyter.widget-view+json": {
              "model_id": "667394c8d1704241871f021bb20fd622",
              "version_minor": 0,
              "version_major": 2
            },
            "text/plain": [
              "  0%|          | 0/27000 [00:00<?, ?it/s]"
            ]
          },
          "metadata": {}
        }
      ]
    },
    {
      "cell_type": "code",
      "metadata": {
        "colab": {
          "base_uri": "https://localhost:8080/",
          "height": 67,
          "referenced_widgets": [
            "7c30324036d44265819e7638a0df7598",
            "d9e886cb6a5c44f88d79745427f588d8",
            "8090287c91dc4b2995d85141a043be60",
            "fd1b99689801430eaa122808445ac536",
            "a81cbffda27b42aa8e837ab6182af232",
            "bca50dd8895f49f8b3308e4e0c52b8eb",
            "3f824b32d379419d91391279315419bd",
            "d378285dfc6a46b487c9aed03bce2a4d",
            "b4454ce48cc9449bbd371fe39681a7ae",
            "1db6bb0629ef4e93860f9fc118269088",
            "2dd82a2039dd44caac10308faeb765ca"
          ]
        },
        "id": "8_s20nvYQibu",
        "outputId": "73dfec8c-d2d0-4397-88da-d2b0a7cbd72d"
      },
      "source": [
        "print(\"Processing Validation Data\")\n",
        "validation_dataset = process_training_data(validation_data,validation_labels)\n",
        "validation_loader = make_data_loader(validation_dataset)"
      ],
      "execution_count": 13,
      "outputs": [
        {
          "output_type": "stream",
          "name": "stdout",
          "text": [
            "Processing Validation Data\n"
          ]
        },
        {
          "output_type": "display_data",
          "data": {
            "application/vnd.jupyter.widget-view+json": {
              "model_id": "7c30324036d44265819e7638a0df7598",
              "version_minor": 0,
              "version_major": 2
            },
            "text/plain": [
              "  0%|          | 0/3000 [00:00<?, ?it/s]"
            ]
          },
          "metadata": {}
        }
      ]
    },
    {
      "cell_type": "code",
      "metadata": {
        "colab": {
          "base_uri": "https://localhost:8080/",
          "height": 67,
          "referenced_widgets": [
            "def1f08ea47d4cdfb8437ed65b2f8673",
            "b90ed7a98aa547b9ad84b56500fc4636",
            "6f63756882fb4d30981b1d09837148df",
            "7625707207d7440d8f4750d4e11b8eb2",
            "a6e5e14f0895454aa8488492ca30940d",
            "e521c390f02e4eaa944bdc24cafb4488",
            "afdcc3837de84959a0d6b7f59d0ebf7f",
            "ceae74c565d444c4b840aafd43124b56",
            "f8ca424cad704b30ae691e39cbdc2810",
            "103594a83bc04d79bd6a91c70f2e7a19",
            "4e4d23631e2f4486a73601f5f2c6667e"
          ]
        },
        "id": "LcnE_z9qQPxm",
        "outputId": "375b80f8-925e-48f3-eecb-494daa15654f"
      },
      "source": [
        "print(\"Processing Testing Data\")\n",
        "testing_dataset = process_testing_data(testing_data)"
      ],
      "execution_count": 14,
      "outputs": [
        {
          "output_type": "stream",
          "name": "stdout",
          "text": [
            "Processing Testing Data\n"
          ]
        },
        {
          "output_type": "display_data",
          "data": {
            "application/vnd.jupyter.widget-view+json": {
              "model_id": "def1f08ea47d4cdfb8437ed65b2f8673",
              "version_minor": 0,
              "version_major": 2
            },
            "text/plain": [
              "  0%|          | 0/15000 [00:00<?, ?it/s]"
            ]
          },
          "metadata": {}
        }
      ]
    },
    {
      "cell_type": "markdown",
      "metadata": {
        "id": "_9OkEEcNQpXU"
      },
      "source": [
        "Show training data samples for validation"
      ]
    },
    {
      "cell_type": "code",
      "metadata": {
        "colab": {
          "base_uri": "https://localhost:8080/",
          "height": 239
        },
        "id": "0aXcu3HsziKE",
        "outputId": "8007262d-0348-42a8-dabb-008aca755a10"
      },
      "source": [
        "def show_sample(n):\n",
        "  perm = torch.randperm(len(training_dataset))\n",
        "  idx = perm[:n]\n",
        "  data, labels = training_dataset[idx]\n",
        "  img_grid(n//5,5 , data[:,0])\n",
        "  print(convert_labels_to_readables(labels))\n",
        "show_sample(10)"
      ],
      "execution_count": 15,
      "outputs": [
        {
          "output_type": "display_data",
          "data": {
            "image/png": "[encoded data removed]",
            "text/plain": [
              "<Figure size 504x720 with 5 Axes>"
            ]
          },
          "metadata": {
            "needs_background": "light"
          }
        },
        {
          "output_type": "display_data",
          "data": {
            "image/png": "[encoded data removed]",
            "text/plain": [
              "<Figure size 504x720 with 5 Axes>"
            ]
          },
          "metadata": {
            "needs_background": "light"
          }
        },
        {
          "output_type": "stream",
          "name": "stdout",
          "text": [
            "[(0, 'e'), (5, 'w'), (6, 'n'), (5, 'd'), (2, 's'), (3, 'g'), (1, 's'), (1, 'p'), (9, 'o'), (4, 'b')]\n"
          ]
        }
      ]
    },
    {
      "cell_type": "markdown",
      "metadata": {
        "id": "7wL3AbTECud4"
      },
      "source": [
        "## Training Model"
      ]
    },
    {
      "cell_type": "markdown",
      "metadata": {
        "id": "WKNdllIHBlpL"
      },
      "source": [
        "### Custom Res Net with Multi Output\n",
        "\n",
        "\n"
      ]
    },
    {
      "cell_type": "markdown",
      "metadata": {
        "id": "EY276CnbSDjn"
      },
      "source": [
        "Define the residual block module"
      ]
    },
    {
      "cell_type": "code",
      "metadata": {
        "id": "TCEna6gaRoI-"
      },
      "source": [
        "class Block(nn.Module):\n",
        "  def __init__(self, inplane, outplane, stride = 1):\n",
        "    super(Block, self).__init__()\n",
        "    self.inplane = inplane\n",
        "    self.outplane = outplane\n",
        "    self.relu = nn.ReLU(inplace=True)\n",
        "    \n",
        "    self.conv1 = nn.Conv2d(inplane, outplane, 3, padding=1, bias=False, stride=stride)\n",
        "    self.bn1 = nn.BatchNorm2d(outplane)\n",
        "    self.conv2 = nn.Conv2d(outplane, outplane, 3, padding=1, bias=False)\n",
        "    self.bn2 = nn.BatchNorm2d(outplane)\n",
        "\n",
        "    # If size change or stride, add a convolution layer to shortcut\n",
        "    self.convi, self.bni = nn.Identity(), nn.Identity()\n",
        "    if inplane != outplane or stride != 1: \n",
        "      self.convi = nn.Conv2d(inplane, outplane, 1, bias=False, stride=stride)\n",
        "      self.bni = nn.BatchNorm2d(outplane)\n",
        "  \n",
        "  def forward(self, x):\n",
        "        identity = self.bni(self.convi(x))\n",
        "        # Two Convlution + Shortcut\n",
        "        out = self.conv1(x)\n",
        "        out = self.bn1(out)\n",
        "        out = self.relu(out)\n",
        "\n",
        "        out = self.conv2(out)\n",
        "        out = self.bn2(out)\n",
        "\n",
        "        out += identity\n",
        "        out = self.relu(out)\n",
        "\n",
        "        return out"
      ],
      "execution_count": 16,
      "outputs": []
    },
    {
      "cell_type": "markdown",
      "metadata": {
        "id": "8lp4NNySSH84"
      },
      "source": [
        "Define the resnet model"
      ]
    },
    {
      "cell_type": "code",
      "metadata": {
        "id": "Hunsos9-Bktj"
      },
      "source": [
        "class Block(nn.Module):\n",
        "  def __init__(self, inplane, outplane, stride = 1):\n",
        "    super(Block, self).__init__()\n",
        "    self.inplane = inplane\n",
        "    self.outplane = outplane\n",
        "    self.relu = nn.ReLU(inplace=True)\n",
        "    \n",
        "    self.conv1 = nn.Conv2d(inplane, outplane, 3, padding=1, bias=False, stride=stride)\n",
        "    self.bn1 = nn.BatchNorm2d(outplane)\n",
        "    self.conv2 = nn.Conv2d(outplane, outplane, 3, padding=1, bias=False)\n",
        "    self.bn2 = nn.BatchNorm2d(outplane)\n",
        "    \n",
        "    self.convi, self.bni = nn.Identity(), nn.Identity()\n",
        "    if inplane != outplane or stride != 1: \n",
        "      self.convi = nn.Conv2d(inplane, outplane, 1, bias=False, stride=stride)\n",
        "      self.bni = nn.BatchNorm2d(outplane)\n",
        "  \n",
        "  def forward(self, x):\n",
        "        identity = self.bni(self.convi(x))\n",
        "\n",
        "        out = self.conv1(x)\n",
        "        out = self.bn1(out)\n",
        "        out = self.relu(out)\n",
        "\n",
        "        out = self.conv2(out)\n",
        "        out = self.bn2(out)\n",
        "\n",
        "        out += identity\n",
        "        out = self.relu(out)\n",
        "\n",
        "        return out\n",
        "\n",
        "class CustomResNet(nn.Module):\n",
        "    def __init__(self, channel_size = 20):\n",
        "        super(CustomResNet, self).__init__()\n",
        "        \n",
        "        self.conv1 = nn.Conv2d(1, channel_size, 5, padding=2, bias=False)\n",
        "        self.maxpool = nn.MaxPool2d(kernel_size=2, stride=2, padding=1)\n",
        "        self.relu = nn.ReLU(inplace=True)\n",
        "        self.bn1 = nn.BatchNorm2d(channel_size)\n",
        "        \n",
        "        #  Residual Layers\n",
        "        self.layer1 = nn.Sequential(\n",
        "            Block(channel_size, channel_size),\n",
        "            Block(channel_size, channel_size)\n",
        "        )\n",
        "      \n",
        "        self.layer2 = nn.Sequential(\n",
        "            Block(channel_size, 2*channel_size, 2),\n",
        "            Block(2*channel_size, 2*channel_size),\n",
        "            Block(2*channel_size, 2*channel_size),\n",
        "            Block(2*channel_size, 2*channel_size)\n",
        "        )\n",
        "\n",
        "        self.layer3 = nn.Sequential(\n",
        "            Block(2*channel_size, 4*channel_size, 2),\n",
        "            Block(4*channel_size, 4*channel_size),\n",
        "            Block(4*channel_size, 4*channel_size),\n",
        "            Block(4*channel_size, 4*channel_size)\n",
        "        )\n",
        "      \n",
        "        self.layer4 = nn.Sequential(\n",
        "            Block(4*channel_size, 8*channel_size, 2),\n",
        "            Block(8*channel_size, 8*channel_size),\n",
        "        )\n",
        "\n",
        "        # self.layer4 = self._make_layer(models.resnet.BasicBlock, 512, 1, stride=2)\n",
        "        self.avgpool = nn.AvgPool2d(3, stride=1)\n",
        "        self.fc1 = nn.Linear(2*2*8*channel_size, 10)\n",
        "        self.fc2 = nn.Linear(2*2*8*channel_size, 26)        \n",
        "\n",
        "    def forward(self, x):\n",
        "        x = self.maxpool(self.relu(self.bn1(self.conv1(x))))\n",
        "        x = self.layer1(x)\n",
        "        x = self.layer2(x)\n",
        "        x = self.layer3(x)\n",
        "        x = self.layer4(x)\n",
        "        x = self.avgpool(x)\n",
        "        x = torch.flatten(x, 1)\n",
        "        l1 = self.fc1(x)\n",
        "        l2 = self.fc2(x)\n",
        "        return l1,l2"
      ],
      "execution_count": 17,
      "outputs": []
    },
    {
      "cell_type": "markdown",
      "metadata": {
        "id": "qfxLeadfDMFt"
      },
      "source": [
        "### Training and Validation"
      ]
    },
    {
      "cell_type": "markdown",
      "metadata": {
        "id": "cC1ZgGfOVKJv"
      },
      "source": [
        "#### Training Helper Function"
      ]
    },
    {
      "cell_type": "markdown",
      "metadata": {
        "id": "F_VOUOUHcFZW"
      },
      "source": [
        "Initialize network validation and training function"
      ]
    },
    {
      "cell_type": "code",
      "metadata": {
        "id": "dKOX6rEUUDEA"
      },
      "source": [
        "multi_net_criterion = nn.CrossEntropyLoss()\n",
        "def criterion(output, labels):\n",
        "    o1, o2 = output\n",
        "    l1, l2 = labels[:,0], labels[:,1]\n",
        "    loss1 = multi_net_criterion(o1,l1)\n",
        "    loss2 = multi_net_criterion(o2,l2)\n",
        "    return loss1 + loss2"
      ],
      "execution_count": 18,
      "outputs": []
    },
    {
      "cell_type": "code",
      "metadata": {
        "id": "wqFZ41ElUeMO"
      },
      "source": [
        "best_percentage_product, best_backup_filepath = 0.0, None\n",
        "backup_folder = '/content/drive/My Drive/data/backup'\n",
        "\n",
        "def backup_network(net, name = 'temp'):\n",
        "  global backup_folder\n",
        "  name = name.replace('.','_')\n",
        "  network_file_path = f'{backup_folder}/unlabed.pth'\n",
        "  torch.save(net.state_dict(), network_file_path)\n",
        "  print(f'Back up model to: {network_file_path}')\n",
        "  return network_file_path\n",
        "\n",
        "def backup_if_better_network(net, loss, digit_acc, letter_acc):\n",
        "  global best_percentage_product, best_backup_filepath\n",
        "  percentage_product = letter_acc * digit_acc\n",
        "  name = 'L{0:.4f}-P{1:.4f}'.format(loss,percentage_product)\n",
        "  if percentage_product > best_percentage_product:\n",
        "    best_percentage_product = percentage_product\n",
        "    network_file_path = backup_network(net,name)\n",
        "    if best_backup_filepath is not None:\n",
        "      remove(best_backup_filepath)\n",
        "    best_backup_filepath = network_file_path"
      ],
      "execution_count": 19,
      "outputs": []
    },
    {
      "cell_type": "code",
      "metadata": {
        "id": "AwkzEV1q8TNm"
      },
      "source": [
        "def validate_network(net, backup = True):\n",
        "  digit_acc, letter_acc, total_loss = 0.0, 0.0, 0.0\n",
        "  for i, validation_data in enumerate(tqdm(validation_loader, position=0, leave=False)):\n",
        "    inputs, labels = validation_data\n",
        "    outputs = net(inputs)\n",
        "    total_loss += criterion(outputs, labels).item()\n",
        "    o1, o2 = outputs\n",
        "    l1, l2 = labels[:,0], labels[:,1]\n",
        "    digit_acc += torch.mean((torch.argmax(o1, dim=1) == l1).float()).float()\n",
        "    letter_acc += torch.mean((torch.argmax(o2, dim=1) == l2).float()).float()\n",
        "  average_loss = total_loss / len(validation_loader)\n",
        "  digit_acc = (digit_acc/len(validation_loader)).item()\n",
        "  letter_acc = (letter_acc / len(validation_loader)).item()\n",
        "  if backup:\n",
        "    backup_if_better_network(net, average_loss, digit_acc, letter_acc)\n",
        "  print(f'Val Loss: {average_loss}, Digit Acc: {digit_acc}, Letter Accuracy: {letter_acc}')"
      ],
      "execution_count": 20,
      "outputs": []
    },
    {
      "cell_type": "code",
      "metadata": {
        "id": "5wGeM6I4UEax"
      },
      "source": [
        "def backward(net, data, optimizer, criterion = criterion):\n",
        "  inputs, labels = data\n",
        "  optimizer.zero_grad()\n",
        "  outputs = net(inputs)\n",
        "  loss = criterion(outputs, labels)\n",
        "  loss.backward()\n",
        "  optimizer.step()\n",
        "  return loss.item()"
      ],
      "execution_count": 21,
      "outputs": []
    },
    {
      "cell_type": "code",
      "metadata": {
        "id": "H7Bsqq4ECud6"
      },
      "source": [
        "def train_network(net, optimizer, scheduler, epoch_to_run = 1, iter_to_step = 100, iter_to_validate = 500, loader = training_loader):\n",
        "  global best_backup_filepath, best_percentage_product\n",
        "  best_percentage_product, best_backup_filepath = 0.0, None # reinitialize backup\n",
        "  running_loss, cnt = 0.0, 0\n",
        "  last_index = len(loader) * (epoch_to_run - int(epoch_to_run))\n",
        "  epoch_to_run = int(epoch_to_run) + 1\n",
        "  for epoch in range(epoch_to_run):\n",
        "    for i, data in enumerate(tqdm(loader, leave=False)):\n",
        "      if epoch == epoch_to_run - 1 and i > last_index:\n",
        "        break\n",
        "      running_loss += backward(net, data, optimizer)\n",
        "      cnt+=1\n",
        "      if i % iter_to_step == iter_to_step - 1:\n",
        "        scheduler.step()\n",
        "        print('[{0}:{1}] loss: {2:.4f}'.format(epoch, i // 100, running_loss / cnt))\n",
        "        running_loss, cnt = 0.0, 0\n",
        "      if i % iter_to_validate == iter_to_validate - 1:\n",
        "        validate_network(net)\n",
        "  validate_network(net)"
      ],
      "execution_count": 22,
      "outputs": []
    },
    {
      "cell_type": "markdown",
      "metadata": {
        "id": "XARKUoP9VRNZ"
      },
      "source": [
        "#### Training New Network"
      ]
    },
    {
      "cell_type": "code",
      "metadata": {
        "id": "-nTa_yc4NHi3",
        "colab": {
          "base_uri": "https://localhost:8080/",
          "height": 245
        },
        "outputId": "b51b0f23-9fa2-4199-a915-b53a8022b8dc"
      },
      "source": [
        "# Sepcify all hyperparameters\n",
        "channel_size = 35\n",
        "lr, momentum, weight_decay, gamma, epoch_to_run = 0.01, 0.9, 1e-5, 0.95, 2\n",
        "\n",
        "# Define the network, optimizer and scheduler for learning rate\n",
        "#net = CustomResNet(channel_size)\n",
        "#optimizer = optim.SGD(net.parameters(), lr=lr, momentum=momentum, weight_decay=weight_decay)\n",
        "scheduler = ExponentialLR(optimizer, gamma=gamma)\n",
        "\n",
        "# Train the network\n",
        "t#rain_network(net, optimizer, scheduler, epoch_to_run=epoch_to_run)"
      ],
      "execution_count": 23,
      "outputs": [
        {
          "output_type": "error",
          "ename": "NameError",
          "evalue": "ignored",
          "traceback": [
            "\u001b[0;31m---------------------------------------------------------------------------\u001b[0m",
            "\u001b[0;31mNameError\u001b[0m                                 Traceback (most recent call last)",
            "\u001b[0;32m<ipython-input-23-737d05fd5721>\u001b[0m in \u001b[0;36m<module>\u001b[0;34m()\u001b[0m\n\u001b[1;32m      6\u001b[0m \u001b[0;31m#net = CustomResNet(channel_size)\u001b[0m\u001b[0;34m\u001b[0m\u001b[0;34m\u001b[0m\u001b[0;34m\u001b[0m\u001b[0m\n\u001b[1;32m      7\u001b[0m \u001b[0;31m#optimizer = optim.SGD(net.parameters(), lr=lr, momentum=momentum, weight_decay=weight_decay)\u001b[0m\u001b[0;34m\u001b[0m\u001b[0;34m\u001b[0m\u001b[0;34m\u001b[0m\u001b[0m\n\u001b[0;32m----> 8\u001b[0;31m \u001b[0mscheduler\u001b[0m \u001b[0;34m=\u001b[0m \u001b[0mExponentialLR\u001b[0m\u001b[0;34m(\u001b[0m\u001b[0moptimizer\u001b[0m\u001b[0;34m,\u001b[0m \u001b[0mgamma\u001b[0m\u001b[0;34m=\u001b[0m\u001b[0mgamma\u001b[0m\u001b[0;34m)\u001b[0m\u001b[0;34m\u001b[0m\u001b[0;34m\u001b[0m\u001b[0m\n\u001b[0m\u001b[1;32m      9\u001b[0m \u001b[0;34m\u001b[0m\u001b[0m\n\u001b[1;32m     10\u001b[0m \u001b[0;31m# Train the network\u001b[0m\u001b[0;34m\u001b[0m\u001b[0;34m\u001b[0m\u001b[0;34m\u001b[0m\u001b[0m\n",
            "\u001b[0;31mNameError\u001b[0m: name 'optimizer' is not defined"
          ]
        }
      ]
    },
    {
      "cell_type": "markdown",
      "metadata": {
        "id": "ovlgXVNSVYOj"
      },
      "source": [
        "#### Continue Training"
      ]
    },
    {
      "cell_type": "markdown",
      "metadata": {
        "id": "Ao6hSCx6d8Qh"
      },
      "source": [
        "Load previous backup from the drive"
      ]
    },
    {
      "cell_type": "code",
      "metadata": {
        "id": "gX8ahXIXajrU"
      },
      "source": [
        "def PredictUnlabeled(model, threshold):\n",
        "  labels = []\n",
        "  data = []\n",
        "  k = 0\n",
        "  while(k<30000):\n",
        "    r = k+500\n",
        "    if r > len(unlabeled_data):\n",
        "      r = len(unlabeled_data)\n",
        "    l1,l2 = model(torch.from_numpy(unlabeled_data[k:r, None]).float())\n",
        "    l1 = torch.softmax(l1,1)\n",
        "    l2 = torch.softmax(l2,1)\n",
        "    n1 = np.argmax(l1.detach().numpy(), axis=1)\n",
        "    n2 = np.argmax(l2.detach().numpy(), axis=1)\n",
        "    for j in range(0, len(n1)):\n",
        "      if l1[j,n1[j]] > threshold and l2[j,n2[j]] > threshold: # add a threshold of confidence\n",
        "        labels.append([n1[j], n2[j]])\n",
        "        data.append(unlabeled_data[k+j])\n",
        "    k += 500\n",
        "    print(k)\n",
        "  print('Number of confident data: ', len(labels))\n",
        "  return np.array(data), np.array(labels)"
      ],
      "execution_count": 24,
      "outputs": []
    },
    {
      "cell_type": "code",
      "metadata": {
        "id": "I5WOowbQdITJ"
      },
      "source": [
        "net = CustomResNet(35)\n",
        "net.load_state_dict(torch.load('res_net_v10_checkpoint.pth'))\n",
        "lr, momentum, weight_decay, gamma, epoch_to_run = 0.0001, 0.9, 1e-5, 0.95, 0.1\n",
        "optimizer = optim.SGD(net.parameters(), lr=lr, momentum=momentum, weight_decay=weight_decay)\n",
        "scheduler = ExponentialLR(optimizer, gamma=gamma)\n",
        "\n",
        "# Train the network\n",
        "#train_network(net, optimizer, scheduler, epoch_to_run=epoch_to_run)"
      ],
      "execution_count": 26,
      "outputs": []
    },
    {
      "cell_type": "code",
      "metadata": {
        "id": "OLKMPrb9fqiE"
      },
      "source": [
        "validate_network(net,  backup = False)"
      ],
      "execution_count": null,
      "outputs": []
    },
    {
      "cell_type": "code",
      "metadata": {
        "id": "-mI_dOk5a6bg",
        "outputId": "c06536c2-a03c-4b02-e0e9-b5056a7fc20d",
        "colab": {
          "base_uri": "https://localhost:8080/",
          "height": 1000,
          "referenced_widgets": [
            "37a073b5c2f142008e242eeab98fcf0c",
            "920ca8afef3a42659524bbf68c575b9f",
            "c0d899b7d8074c2fafbb71f6b95a3697",
            "465d3494d2f647c4bf2c06f1f0009e1f",
            "199766dccda441b380632275af380132",
            "9138e4604627479fa7d7a2b8db594c02",
            "cfa5ae3d5c4a40b0962a092ee6467fe7",
            "66aa5b85b237468ca813c200539eadbf",
            "346cd90107ea4d3da5b488de1d8bbe55",
            "8f383236ccc14783b0bd0ec89904806e",
            "badc46d1384e4cbe833beb220f61f8ce"
          ]
        }
      },
      "source": [
        "unlabeled_predicted_data, unlabeled_labels = PredictUnlabeled(net, 0.98)\n",
        "unlabeled_dataset = process_unlabeled_data(unlabeled_predicted_data, unlabeled_labels, 4, 2)\n",
        "\n",
        "unlabeled_predicted_data, unlabeled_labels = unlabeled_dataset[:]\n",
        "\n",
        "with h5py.File('data2.h', \"w\") as out:\n",
        "   out['X_train'] = unlabeled_predicted_data\n",
        "   out['Y_train'] = unlabeled_labels\n",
        "unlabeled_dataset = dataset_h5(\"data2.h\")\n",
        "\n",
        "final_training_dataset = torch.utils.data.ConcatDataset([dataset, unlabeled_dataset])\n",
        "\n",
        "final_training_dataloader = DataLoader(final_training_dataset, batch_size=30, shuffle=True, num_workers=2)"
      ],
      "execution_count": 27,
      "outputs": [
        {
          "output_type": "stream",
          "name": "stdout",
          "text": [
            "500\n",
            "1000\n",
            "1500\n",
            "2000\n",
            "2500\n",
            "3000\n",
            "3500\n",
            "4000\n",
            "4500\n",
            "5000\n",
            "5500\n",
            "6000\n",
            "6500\n",
            "7000\n",
            "7500\n",
            "8000\n",
            "8500\n",
            "9000\n",
            "9500\n",
            "10000\n",
            "10500\n",
            "11000\n",
            "11500\n",
            "12000\n",
            "12500\n",
            "13000\n",
            "13500\n",
            "14000\n",
            "14500\n",
            "15000\n",
            "15500\n",
            "16000\n",
            "16500\n",
            "17000\n",
            "17500\n",
            "18000\n",
            "18500\n",
            "19000\n",
            "19500\n",
            "20000\n",
            "20500\n",
            "21000\n",
            "21500\n",
            "22000\n",
            "22500\n",
            "23000\n",
            "23500\n",
            "24000\n",
            "24500\n",
            "25000\n",
            "25500\n",
            "26000\n",
            "26500\n",
            "27000\n",
            "27500\n",
            "28000\n",
            "28500\n",
            "29000\n",
            "29500\n",
            "30000\n",
            "Number of confident data:  20285\n"
          ]
        },
        {
          "output_type": "display_data",
          "data": {
            "application/vnd.jupyter.widget-view+json": {
              "model_id": "37a073b5c2f142008e242eeab98fcf0c",
              "version_minor": 0,
              "version_major": 2
            },
            "text/plain": [
              "  0%|          | 0/20285 [00:00<?, ?it/s]"
            ]
          },
          "metadata": {}
        }
      ]
    },
    {
      "cell_type": "code",
      "metadata": {
        "id": "E4ECf5VkgXS1",
        "outputId": "2133546e-2b38-485f-eaab-b471d70a4b26",
        "colab": {
          "base_uri": "https://localhost:8080/",
          "height": 451,
          "referenced_widgets": [
            "4bdde17f9c7242058ebf041e3599f285",
            "675e3e444307458992fad920c77c01f2",
            "4f2b9d8e99bb44ed81068a6b5a490427",
            "2d946f520abd4dc8b9488d7b0ab4840a",
            "8edee36ac7ef4a7cb1f4006482efff49",
            "126d4782a3ae40c9ae3b23b6b5ce7463",
            "1d457499d927452496abfd65fa4760ed",
            "7eede036a3c84d44893ee86defb168db",
            "078fd9b879364b5383a0e75597f69486",
            "bfe825de9d35433f897228952691c545",
            "61e1054930984bb99e403c033bf04cbf",
            "0f0d71cb52714baa865522f3fbf7b7e4",
            "7c21f7b2d3e94bbd9460909bb8dd6218",
            "ad19f8c310784564bbf46e67beccfbfb",
            "0798d206749d4fe78a6d20641452560b",
            "9bb9e9a245474ec98bdc6f3356a1b935",
            "807c6d299c5346ce9ffc2db5a8fbb24c",
            "8e2cf1abdc9e4d7bb0f6e09a1038a096",
            "e6dc120bbdf44e30963dcc0edbd3ea94",
            "22875ddd6d0844d48fa6e916bfa4c000",
            "dd26d39de9d44fb081ed48d1f4c6441a",
            "d1a0e5c863b140538930f50795ef279a",
            "175976f4c8104585887336f54342c631",
            "5fa179df398d44e49c5c6368e9433cce",
            "cebc970f3e5c45e1a0ddd04bd3ac1ea5",
            "546a5b8474384038b085111bf279f0b4",
            "a20ab99e122a47248d0bd1fe03ebdca1",
            "b0b5dc9cc1d74882822bbcdede7fd100",
            "791c42ebb1d2438fa9c5b25944003125",
            "b8fcf9069e6648ad89b059ca06cd5db8",
            "76d1f9cdd2f9430981fc269f208437c2",
            "f5966172ea404e49bc1f18cfe31bd807",
            "573e61bf87bc44c3bc11eb56958110b7",
            "5d09f553d53c447382f193b5e69def31",
            "8cb64b8b73164c8db02c7e3c4fd82ad6",
            "3d0b29d35c7646c09b69249a20cee929",
            "cd97178f01f14445aae79dd2b1e1e1f9",
            "293bdb5683c34c318b16ef3059128d30",
            "d289c5462cd64fb28b453ea52e2b7e28",
            "a98c876ed93b4883ab23a21c146e95f4",
            "71c05be228634ecb8a019b72854e19ba",
            "0cef40139d684000b523abbc353a7539",
            "f48a3de58db04deaad9df3ecf5bf9092",
            "8f7d437e09be46c89044a20db7b3a287"
          ]
        }
      },
      "source": [
        "#unlabeled_dataloader = DataLoader(unlabeled_dataset, batch_size=30, shuffle=True, num_workers=2)\n",
        "# train with the training and unlabeled data\n",
        "#net = CustomResNet(35)\n",
        "lr, momentum, weight_decay, gamma, epoch_to_run = 0.01, 0.9, 1e-5, 0.95, 1\n",
        "optimizer = optim.SGD(net.parameters(), lr=lr, momentum=momentum, weight_decay=weight_decay)\n",
        "scheduler = ExponentialLR(optimizer, gamma=gamma)\n",
        "\n",
        "# Train the network\n",
        "train_network(net, optimizer, scheduler, epoch_to_run=epoch_to_run, loader = unlabeled_dataloader)"
      ],
      "execution_count": null,
      "outputs": [
        {
          "output_type": "display_data",
          "data": {
            "application/vnd.jupyter.widget-view+json": {
              "model_id": "4bdde17f9c7242058ebf041e3599f285",
              "version_minor": 0,
              "version_major": 2
            },
            "text/plain": [
              "  0%|          | 0/4734 [00:00<?, ?it/s]"
            ]
          },
          "metadata": {}
        },
        {
          "output_type": "stream",
          "name": "stdout",
          "text": [
            "[0:0] loss: 5.7150\n",
            "[0:1] loss: 5.2990\n",
            "[0:2] loss: 5.1608\n",
            "[0:3] loss: 4.9907\n",
            "[0:4] loss: 4.8527\n"
          ]
        },
        {
          "output_type": "display_data",
          "data": {
            "application/vnd.jupyter.widget-view+json": {
              "model_id": "0f0d71cb52714baa865522f3fbf7b7e4",
              "version_minor": 0,
              "version_major": 2
            },
            "text/plain": [
              "  0%|          | 0/100 [00:00<?, ?it/s]"
            ]
          },
          "metadata": {}
        },
        {
          "output_type": "stream",
          "name": "stdout",
          "text": [
            "Back up model to: /content/drive/My Drive/data/backup/unlabed.pth\n",
            "Val Loss: 4.880735216140747, Digit Acc: 0.31733328104019165, Letter Accuracy: 0.1289999932050705\n",
            "[0:5] loss: 4.6521\n",
            "[0:6] loss: 4.4001\n",
            "[0:7] loss: 4.1428\n",
            "[0:8] loss: 3.7980\n",
            "[0:9] loss: 3.4889\n"
          ]
        },
        {
          "output_type": "display_data",
          "data": {
            "application/vnd.jupyter.widget-view+json": {
              "model_id": "175976f4c8104585887336f54342c631",
              "version_minor": 0,
              "version_major": 2
            },
            "text/plain": [
              "  0%|          | 0/100 [00:00<?, ?it/s]"
            ]
          },
          "metadata": {}
        },
        {
          "output_type": "stream",
          "name": "stdout",
          "text": [
            "Back up model to: /content/drive/My Drive/data/backup/unlabed.pth\n",
            "Val Loss: 3.432707350254059, Digit Acc: 0.6180002093315125, Letter Accuracy: 0.31499993801116943\n",
            "[0:10] loss: 3.1524\n",
            "[0:11] loss: 2.9028\n",
            "[0:12] loss: 2.5100\n",
            "[0:13] loss: 2.2457\n",
            "[0:14] loss: 1.9864\n"
          ]
        },
        {
          "output_type": "display_data",
          "data": {
            "application/vnd.jupyter.widget-view+json": {
              "model_id": "5d09f553d53c447382f193b5e69def31",
              "version_minor": 0,
              "version_major": 2
            },
            "text/plain": [
              "  0%|          | 0/100 [00:00<?, ?it/s]"
            ]
          },
          "metadata": {}
        },
        {
          "output_type": "stream",
          "name": "stdout",
          "text": [
            "Back up model to: /content/drive/My Drive/data/backup/unlabed.pth\n",
            "Val Loss: 2.178318203687668, Digit Acc: 0.8053335547447205, Letter Accuracy: 0.5346666574478149\n",
            "[0:15] loss: 1.7941\n"
          ]
        }
      ]
    },
    {
      "cell_type": "code",
      "metadata": {
        "id": "rg0QaLYjRa4S"
      },
      "source": [
        "# Specify the hyper parameters and network configuration\n",
        "channel_size = 5\n",
        "lr, momentum, weight_decay, gamma = 0.0005, 0.9, 1e-5, 0.95\n",
        "\n",
        "# Load the network from filesystem\n",
        "net = CustomResNet(channel_size)\n",
        "backup_name = \"CH-5-B[2,5,3,2]-L4_2525-P0_0799\"\n",
        "net.load_state_dict(torch.load(f'{backup_folder}/{backup_name}.pth'))\n",
        "\n",
        "# Sanity check\n",
        "validate_network(net, backup = False)\n",
        "\n",
        "# Redefine the optimizer and scheduler\n",
        "optimizer = optim.SGD(net.parameters(), lr=lr, momentum=momentum, weight_decay=weight_decay)\n",
        "scheduler = ExponentialLR(optimizer, gamma=gamma)"
      ],
      "execution_count": null,
      "outputs": []
    },
    {
      "cell_type": "markdown",
      "metadata": {
        "id": "eVK-wQG0eAbe"
      },
      "source": [
        "Continue training the model"
      ]
    },
    {
      "cell_type": "code",
      "metadata": {
        "id": "ZUzzPBSguAa7"
      },
      "source": [
        "train_network(net, optimizer, scheduler, epoch_to_run = 0.5)"
      ],
      "execution_count": null,
      "outputs": []
    },
    {
      "cell_type": "markdown",
      "metadata": {
        "id": "4VlH7E76Cud7"
      },
      "source": [
        "## Results"
      ]
    },
    {
      "cell_type": "markdown",
      "metadata": {
        "id": "N-uBsbTqcnXI"
      },
      "source": [
        "Quick Sanity check"
      ]
    },
    {
      "cell_type": "code",
      "metadata": {
        "id": "5dQ-WneJWeD4"
      },
      "source": [
        "img_grid(2, 5, testing_dataset[10000:10010,0])\n",
        "l1, l2 = net(testing_dataset[10000:10010])\n",
        "l1 = np.argmax(l1.detach().numpy(), axis=1)\n",
        "l2 = np.argmax(l2.detach().numpy(), axis=1)\n",
        "print(list(zip(l1,map(lambda x: mapping[x], l2))))"
      ],
      "execution_count": null,
      "outputs": []
    },
    {
      "cell_type": "code",
      "metadata": {
        "id": "iB7GDwKTNFOd"
      },
      "source": [
        "def LabelToString(label, isDigit):\n",
        "  s = \"\"\n",
        "  r = 0\n",
        "  if (isDigit):\n",
        "    r = 10\n",
        "  else:\n",
        "    r = 26\n",
        "  for i in range(0, r):\n",
        "    if (i == label):\n",
        "      s += '1'\n",
        "    else:\n",
        "      s += '0'\n",
        "  return s\n",
        "\n",
        "category = []\n",
        "k = 0\n",
        "while(k<15000):\n",
        "  l1,l2 = net(testing_dataset[k:k+100])\n",
        "  l1 = np.argmax(l1.detach().numpy(), axis=1)\n",
        "  l2 = np.argmax(l2.detach().numpy(), axis=1)\n",
        "  for i in range(0, len(l1)):\n",
        "    a = LabelToString(l1[i], True)\n",
        "    b = LabelToString(l2[i], False)\n",
        "    category.append(a+b)\n",
        "    k += 1"
      ],
      "execution_count": null,
      "outputs": []
    },
    {
      "cell_type": "code",
      "metadata": {
        "id": "mxYZsufbCud8"
      },
      "source": [
        "id = []\n",
        "for i in range(0, 15000):\n",
        "  id.append(i)\n",
        "# need to create data dict\n",
        "data = {\n",
        "    '# Id' : id,\n",
        "    'Category' : category\n",
        "}\n",
        "\n",
        "df = pd.DataFrame(data=data, columns= ['# Id', 'Category'])\n",
        "print(df)\n",
        "df.to_csv('/content/drive/My Drive/data/results5.csv', index = False, header=True)"
      ],
      "execution_count": null,
      "outputs": []
    },
    {
      "cell_type": "code",
      "metadata": {
        "id": "tAZSciexTbmB"
      },
      "source": [
        "torch.save(net.state_dict(), '/content/drive/My Drive/data/res_net_checkpoint.pth')"
      ],
      "execution_count": null,
      "outputs": []
    }
  ]
}